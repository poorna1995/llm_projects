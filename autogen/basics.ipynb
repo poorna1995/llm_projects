{
 "cells": [
  {
   "cell_type": "markdown",
   "id": "890d6682",
   "metadata": {},
   "source": [
    "### Model\n"
   ]
  },
  {
   "cell_type": "code",
   "execution_count": 3,
   "id": "dca5a1f2",
   "metadata": {},
   "outputs": [],
   "source": [
    "\n",
    "from autogen_ext.models.openai import OpenAIChatCompletionClient\n"
   ]
  },
  {
   "cell_type": "code",
   "execution_count": 4,
   "id": "cb9167c9",
   "metadata": {},
   "outputs": [],
   "source": [
    "model_client = OpenAIChatCompletionClient(model='gpt-4o-mini')"
   ]
  },
  {
   "cell_type": "markdown",
   "id": "27df54f7",
   "metadata": {},
   "source": [
    "### message"
   ]
  },
  {
   "cell_type": "code",
   "execution_count": 5,
   "id": "97567b4e",
   "metadata": {},
   "outputs": [],
   "source": [
    "from autogen_agentchat.messages import TextMessage"
   ]
  },
  {
   "cell_type": "code",
   "execution_count": 14,
   "id": "262f84c6",
   "metadata": {},
   "outputs": [],
   "source": [
    "message = TextMessage(content=\"i love to visit london\", source='user')"
   ]
  },
  {
   "cell_type": "code",
   "execution_count": 15,
   "id": "740503dd",
   "metadata": {},
   "outputs": [
    {
     "data": {
      "text/plain": [
       "TextMessage(id='eb8f10b1-7020-41d2-95cf-a5ea7b5b5b55', source='user', models_usage=None, metadata={}, created_at=datetime.datetime(2025, 9, 5, 10, 25, 40, 644777, tzinfo=datetime.timezone.utc), content='i love to visit london', type='TextMessage')"
      ]
     },
     "execution_count": 15,
     "metadata": {},
     "output_type": "execute_result"
    }
   ],
   "source": [
    "message"
   ]
  },
  {
   "cell_type": "markdown",
   "id": "b33d3163",
   "metadata": {},
   "source": [
    "### The agent"
   ]
  },
  {
   "cell_type": "code",
   "execution_count": 16,
   "id": "712f9914",
   "metadata": {},
   "outputs": [],
   "source": [
    "from autogen_agentchat.agents import AssistantAgent\n",
    "\n",
    "agent = AssistantAgent(\n",
    "    name = \"airline_agent\",\n",
    "    model_client = model_client,\n",
    "    system_message = \"you are a helpful asistant for an arline. yo five short , humapus anwers\",\n",
    "    model_client_stream = True\n",
    ")"
   ]
  },
  {
   "cell_type": "markdown",
   "id": "279ac99d",
   "metadata": {},
   "source": [
    "#### put all together in message"
   ]
  },
  {
   "cell_type": "code",
   "execution_count": 18,
   "id": "b8d565fa",
   "metadata": {},
   "outputs": [
    {
     "data": {
      "text/plain": [
       "\"London loves you back! It's like the city has a crush on all visitors. Let's just hope it doesn't start stalking you! ✈️❤️\""
      ]
     },
     "execution_count": 18,
     "metadata": {},
     "output_type": "execute_result"
    }
   ],
   "source": [
    "from autogen_core import CancellationToken\n",
    "\n",
    "response = await agent.on_messages([messages], cancellation_token=CancellationToken())\n",
    "response.chat_message.content"
   ]
  },
  {
   "cell_type": "code",
   "execution_count": 31,
   "id": "729b6fbf",
   "metadata": {},
   "outputs": [],
   "source": [
    "import os\n",
    "import sqlite3\n",
    "\n",
    "# Delete existing database file if it exists\n",
    "if os.path.exists(\"tickets.db\"):\n",
    "    os.remove(\"tickets.db\")\n",
    "\n",
    "# Create the database and the table\n",
    "conn = sqlite3.connect(\"tickets.db\")\n",
    "c = conn.cursor()\n",
    "c.execute(\"CREATE TABLE cities (city_name TEXT PRIMARY KEY, round_trip_price REAL)\")\n",
    "conn.commit()\n",
    "conn.close()"
   ]
  },
  {
   "cell_type": "code",
   "execution_count": 32,
   "id": "2b2e947b",
   "metadata": {},
   "outputs": [],
   "source": [
    "# Populate our database\n",
    "def save_city_price(city_name, round_trip_price):\n",
    "    conn = sqlite3.connect(\"tickets.db\")\n",
    "    c = conn.cursor()\n",
    "    c.execute(\"REPLACE INTO cities (city_name, round_trip_price) VALUES (?, ?)\", (city_name.lower(), round_trip_price))\n",
    "    conn.commit()\n",
    "    conn.close()\n",
    "\n",
    "# Some cities!\n",
    "save_city_price(\"London\", 299)\n",
    "save_city_price(\"Paris\", 399)\n",
    "save_city_price(\"Rome\", 499)\n",
    "save_city_price(\"Madrid\", 550)\n",
    "save_city_price(\"Barcelona\", 580)\n",
    "save_city_price(\"Berlin\", 525)"
   ]
  },
  {
   "cell_type": "code",
   "execution_count": 34,
   "id": "52748770",
   "metadata": {},
   "outputs": [],
   "source": [
    "# Method to get price for a city\n",
    "def get_city_price(city_name: str) -> float | None:\n",
    "    \"\"\" Get the roundtrip ticket price to travel to the city \"\"\"\n",
    "    conn = sqlite3.connect(\"tickets.db\")\n",
    "    c = conn.cursor()\n",
    "    c.execute(\"SELECT round_trip_price FROM cities WHERE city_name = ?\", (city_name.lower(),))\n",
    "    result = c.fetchone()\n",
    "    conn.close()\n",
    "    return result[0] if result else None"
   ]
  },
  {
   "cell_type": "code",
   "execution_count": 35,
   "id": "59eb9fe6",
   "metadata": {},
   "outputs": [
    {
     "data": {
      "text/plain": [
       "499.0"
      ]
     },
     "execution_count": 35,
     "metadata": {},
     "output_type": "execute_result"
    }
   ],
   "source": [
    "get_city_price(\"rome\")"
   ]
  },
  {
   "cell_type": "code",
   "execution_count": null,
   "id": "69477ce1",
   "metadata": {},
   "outputs": [
    {
     "ename": "SyntaxError",
     "evalue": "invalid syntax. Perhaps you forgot a comma? (3285505571.py, line 7)",
     "output_type": "error",
     "traceback": [
      "  \u001b[36mCell\u001b[39m\u001b[36m \u001b[39m\u001b[32mIn[37]\u001b[39m\u001b[32m, line 7\u001b[39m\n\u001b[31m    \u001b[39m\u001b[31mreflect_on_tool_use = True\u001b[39m\n                          ^\n\u001b[31mSyntaxError\u001b[39m\u001b[31m:\u001b[39m invalid syntax. Perhaps you forgot a comma?\n"
     ]
    }
   ],
   "source": [
    "smart_agent = AssertionError(\n",
    "  \n",
    "    name = \"smart_aline_agent\",\n",
    "    model_client= model_client,\n",
    "    system_message = \" you are a helpful assistant for an airline. you give shotrt, humoiurs answers, inlciding th epice of the roundtruo ticket\",\n",
    "    model_client_stream = True,\n",
    "    reflect_on_tool_use = True\n",
    "      tools = [get_city_price]\n",
    ")"
   ]
  },
  {
   "cell_type": "code",
   "execution_count": null,
   "id": "99d767ea",
   "metadata": {},
   "outputs": [],
   "source": []
  }
 ],
 "metadata": {
  "kernelspec": {
   "display_name": ".venv",
   "language": "python",
   "name": "python3"
  },
  "language_info": {
   "codemirror_mode": {
    "name": "ipython",
    "version": 3
   },
   "file_extension": ".py",
   "mimetype": "text/x-python",
   "name": "python",
   "nbconvert_exporter": "python",
   "pygments_lexer": "ipython3",
   "version": "3.13.1"
  }
 },
 "nbformat": 4,
 "nbformat_minor": 5
}
