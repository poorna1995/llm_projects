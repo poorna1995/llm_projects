{
 "cells": [
  {
   "cell_type": "code",
   "execution_count": 17,
   "id": "2b5022fa",
   "metadata": {},
   "outputs": [],
   "source": [
    "from agents import Agent, trace, Runner, gen_trace_id, function_tool\n",
    "from agents.model_settings import ModelSettings\n",
    "from pydantic import BaseModel, Field\n",
    "from dotenv import load_dotenv\n",
    "import asyncio\n",
    "import sendgrid\n",
    "import os\n",
    "from sendgrid.helpers.mail import Mail, Email, To, Content\n",
    "from typing import Dict\n",
    "from IPython.display import Markdown ,display\n",
    "\n",
    "import requests"
   ]
  },
  {
   "cell_type": "markdown",
   "id": "5d74740a",
   "metadata": {},
   "source": [
    "### Defin an search agents\n"
   ]
  },
  {
   "cell_type": "code",
   "execution_count": 3,
   "id": "cc270abd",
   "metadata": {},
   "outputs": [],
   "source": [
    "INSTRUCTIONS = \"You are a research assistant. Given a search term, you search the web for that term and \\\n",
    "produce a concise summary of the results. The summary must 2-3 paragraphs and less than 300 \\\n",
    "words. Capture the main points. Write succintly, no need to have complete sentences or good \\\n",
    "grammar. This will be consumed by someone synthesizing a report, so it's vital you capture the \\\n",
    "essence and ignore any fluff. Do not include any additional commentary other than the summary itself.\"\n"
   ]
  },
  {
   "cell_type": "code",
   "execution_count": 5,
   "id": "ac53757c",
   "metadata": {},
   "outputs": [],
   "source": [
    "from langchain.tools import DuckDuckGoSearchRun"
   ]
  },
  {
   "cell_type": "code",
   "execution_count": 27,
   "id": "f21bc949",
   "metadata": {},
   "outputs": [],
   "source": [
    "@function_tool\n",
    "def duckduckgo_search(query: str) -> str:\n",
    "    \"\"\"Search the web using DuckDuckGo (free API).\"\"\"\n",
    "    resp = requests.get(\"https://api.duckduckgo.com/\",\n",
    "                        params={\"q\": query, \"format\": \"json\"}).json()\n",
    "    \n",
    "    results = [r.get(\"Text\") for r in resp.get(\"RelatedTopics\", []) if r.get(\"Text\")]\n",
    "    print(results)\n",
    "    return \"\\n\".join(results[:5]) if results else \"No results found.\"\n"
   ]
  },
  {
   "cell_type": "code",
   "execution_count": null,
   "id": "237c35d1",
   "metadata": {},
   "outputs": [],
   "source": []
  },
  {
   "cell_type": "code",
   "execution_count": 28,
   "id": "25997556",
   "metadata": {},
   "outputs": [],
   "source": [
    "search = DuckDuckGoSearchRun()"
   ]
  },
  {
   "cell_type": "code",
   "execution_count": 29,
   "id": "ff30d84e",
   "metadata": {},
   "outputs": [],
   "source": [
    "search_agent = Agent(\n",
    "    model = 'gpt-4o-mini',\n",
    "    instructions = INSTRUCTIONS,\n",
    "    tools = [duckduckgo_search],\n",
    "    model_settings = ModelSettings(tool_choice ='required'),\n",
    "    name = 'search engine'\n",
    ")"
   ]
  },
  {
   "cell_type": "code",
   "execution_count": 30,
   "id": "2a832420",
   "metadata": {},
   "outputs": [
    {
     "name": "stdout",
     "output_type": "stream",
     "text": [
      "[]\n",
      "[]\n"
     ]
    }
   ],
   "source": [
    "message = \"Latest AI Agent frameworks in 2025\"\n",
    "\n",
    "\n",
    "with trace(\"search\"):\n",
    "    result = await Runner.run(search_agent, message)"
   ]
  },
  {
   "cell_type": "code",
   "execution_count": 26,
   "id": "4e1b1f29",
   "metadata": {},
   "outputs": [
    {
     "data": {
      "text/markdown": [
       "No current results available on the latest AI Agent frameworks for 2025. Consider checking back later or using different keywords to explore the topic further."
      ],
      "text/plain": [
       "<IPython.core.display.Markdown object>"
      ]
     },
     "metadata": {},
     "output_type": "display_data"
    }
   ],
   "source": [
    "display(Markdown(result.final_output))"
   ]
  },
  {
   "cell_type": "code",
   "execution_count": 31,
   "id": "5974e19a",
   "metadata": {},
   "outputs": [],
   "source": [
    "HOW_MANY_SEARCHES = 3\n",
    "\n",
    "INSTRUCTIONS = f\"You are a helpful research assistant. Given a query, come up with a set of web searches \\\n",
    "to perform to best answer the query. Output {HOW_MANY_SEARCHES} terms to query for.\"\n"
   ]
  },
  {
   "cell_type": "code",
   "execution_count": 32,
   "id": "3cc2aa59",
   "metadata": {},
   "outputs": [
    {
     "data": {
      "text/plain": [
       "'You are a helpful research assistant. Given a query, come up with a set of web searches to perform to best answer the query. Output 3 terms to query for.'"
      ]
     },
     "execution_count": 32,
     "metadata": {},
     "output_type": "execute_result"
    }
   ],
   "source": [
    "INSTRUCTIONS"
   ]
  },
  {
   "cell_type": "code",
   "execution_count": 33,
   "id": "e4afebc2",
   "metadata": {},
   "outputs": [],
   "source": [
    "class WebSearchItem(BaseModel):\n",
    "    reason : str = Field(description=\"Your reasoning for why this search is important to the query.\")\n",
    "\n",
    "    query :str = Field(description=\"the search term to use for the websearch\")"
   ]
  },
  {
   "cell_type": "code",
   "execution_count": 58,
   "id": "f1a6658d",
   "metadata": {},
   "outputs": [],
   "source": [
    "class WebSearchPlan(BaseModel):\n",
    "    searches : list[str] = Field(description=\"A list of web searches to perform to best answer the query.\")\n",
    "\n",
    "\n",
    "planner_Agent = Agent(\n",
    "    name = \"Planner Agent\",\n",
    "    instructions = INSTRUCTIONS,\n",
    "    model = 'gpt-4o-mini',\n",
    "    output_type = WebSearchPlan\n",
    ")"
   ]
  },
  {
   "cell_type": "code",
   "execution_count": 59,
   "id": "2b6d55d2",
   "metadata": {},
   "outputs": [],
   "source": [
    "result = await Runner.run(planner_Agent, \"Latest AI Agent framworks in 2025\")"
   ]
  },
  {
   "cell_type": "code",
   "execution_count": 60,
   "id": "71de8084",
   "metadata": {},
   "outputs": [
    {
     "data": {
      "text/plain": [
       "WebSearchPlan(searches=['latest AI agent frameworks 2025', 'AI agent developments', 'top AI technologies 2025', 'AI frameworks in industry', 'future of AI agents 2025'])"
      ]
     },
     "execution_count": 60,
     "metadata": {},
     "output_type": "execute_result"
    }
   ],
   "source": [
    "result.final_output"
   ]
  },
  {
   "cell_type": "code",
   "execution_count": 61,
   "id": "0c758b12",
   "metadata": {},
   "outputs": [],
   "source": [
    "@function_tool\n",
    "def send_email(subject: str, html_body: str) -> Dict[str, str]:\n",
    "    \"\"\" Send out an email with the given subject and HTML body \"\"\"\n",
    "    sg = sendgrid.SendGridAPIClient(api_key=os.environ.get('SENDGRID_API_KEY'))\n",
    "    from_email = Email(\"ed@edwarddonner.com\") # Change this to your verified email\n",
    "    to_email = To(\"ed.donner@gmail.com\") # Change this to your email\n",
    "    content = Content(\"text/html\", html_body)\n",
    "    mail = Mail(from_email, to_email, subject, content).get()\n",
    "    response = sg.client.mail.send.post(request_body=mail)\n",
    "    return {\"status\": \"success\"}"
   ]
  },
  {
   "cell_type": "code",
   "execution_count": 62,
   "id": "c78e0567",
   "metadata": {},
   "outputs": [],
   "source": [
    "INSTRUCTIONS = \"\"\"You are able to send a nicely formatted HTML email based on a detailed report.\n",
    "You will be provided with a detailed report. You should use your tool to send one email, providing the \n",
    "report converted into clean, well presented HTML with an appropriate subject line.\"\"\"\n",
    "\n",
    "email_agent = Agent(\n",
    "    name=\"Email agent\",\n",
    "    instructions=INSTRUCTIONS,\n",
    "    tools=[send_email],\n",
    "    model=\"gpt-4o-mini\",\n",
    ")\n",
    "\n"
   ]
  },
  {
   "cell_type": "code",
   "execution_count": 63,
   "id": "2b023f72",
   "metadata": {},
   "outputs": [],
   "source": [
    "INSTRUCTIONS = (\n",
    "    \"You are a senior researcher tasked with writing a cohesive report for a research query. \"\n",
    "    \"You will be provided with the original query, and some initial research done by a research assistant.\\n\"\n",
    "    \"You should first come up with an outline for the report that describes the structure and \"\n",
    "    \"flow of the report. Then, generate the report and return that as your final output.\\n\"\n",
    "    \"The final output should be in markdown format, and it should be lengthy and detailed. Aim \"\n",
    "    \"for 5-10 pages of content, at least 1000 words.\"\n",
    ")\n",
    "\n",
    "\n",
    "class ReportData(BaseModel):\n",
    "    short_summary: str = Field(description=\"A short 2-3 sentence summary of the findings.\")\n",
    "\n",
    "    markdown_report: str = Field(description=\"The final report\")\n",
    "\n",
    "    follow_up_questions: list[str] = Field(description=\"Suggested topics to research further\")\n",
    "\n",
    "\n",
    "writer_agent = Agent(\n",
    "    name=\"WriterAgent\",\n",
    "    instructions=INSTRUCTIONS,\n",
    "    model=\"gpt-4o-mini\",\n",
    "    output_type=ReportData,\n",
    ")"
   ]
  },
  {
   "cell_type": "code",
   "execution_count": null,
   "id": "a14aeb05",
   "metadata": {},
   "outputs": [],
   "source": [
    "async def plan_searches(query:str):\n",
    "     \"\"\" Use the planner_agent to plan which searches to run for the query \"\"\"\n",
    "     print(\"Planning searches...\")\n",
    "     result = await Runner.run(planner_Agent, f\"Query :{query}\")\n",
    "     print(f\"Will perform {len(result.final_output.searches)} searches\")\n",
    "\n",
    "     return result.final_output\n",
    "\n",
    "\n",
    "async def perform_searches(search_plan: WebSearchPlan):\n",
    "     \"\"\" Call search() for each item in the search plan \"\"\"\n",
    "     print(\"Searching...\")\n",
    "     print(search_plan.searches)\n",
    "     tasks = [asyncio.create_task(search(item)) for item in search_plan.searches]\n",
    "     \n",
    "     results = await asyncio.gather(*tasks)\n",
    "\n",
    "     return results\n",
    "\n",
    "\n",
    "async def search(item: WebSearchItem):\n",
    "     \"\"\" Use the search agent to run a web search for each item in the search plan \"\"\"\n",
    "     input = f\"Search term: {item} \\nReason for searching: {item.reason}\"\n",
    "     result = await Runner.run(search_agent, input)\n",
    "     return result.final_output\n",
    "\n",
    "\n",
    "\n"
   ]
  },
  {
   "cell_type": "code",
   "execution_count": 72,
   "id": "c7fd7340",
   "metadata": {},
   "outputs": [],
   "source": [
    "async def write_report(query: str, search_results: list[str]):\n",
    "    \"\"\" Use the writer agent to write a report based on the search results\"\"\"\n",
    "    print(\"Thinking about report...\")\n",
    "    input = f\"Original query: {query}\\nSummarized search results: {search_results}\"\n",
    "    result = await Runner.run(writer_agent, input)\n",
    "    print(\"Finished writing report\")\n",
    "    return result.final_output\n",
    "\n",
    "async def send_email(report: ReportData):\n",
    "    \"\"\" Use the email agent to send an email with the report \"\"\"\n",
    "    print(\"Writing email...\")\n",
    "    result = await Runner.run(email_agent, report.markdown_report)\n",
    "    print(\"Email sent\")\n",
    "    return report"
   ]
  },
  {
   "cell_type": "code",
   "execution_count": 73,
   "id": "c1228979",
   "metadata": {},
   "outputs": [
    {
     "name": "stdout",
     "output_type": "stream",
     "text": [
      "Starting research...\n",
      "Planning searches...\n",
      "Will perform 10 searches\n",
      "Searching...\n",
      "['latest AI agent frameworks 2025', 'AI agent advancements 2025', 'top AI development platforms 2025', 'AI agents features and capabilities 2025', 'case studies of AI agents 2025', 'comparison of AI frameworks 2025', 'industry applications of AI agents 2025', 'AI agents software architecture 2025', 'future trends in AI agents', 'AI agent challenges and solutions 2025']\n"
     ]
    },
    {
     "ename": "AttributeError",
     "evalue": "'str' object has no attribute 'query'",
     "output_type": "error",
     "traceback": [
      "\u001b[31m---------------------------------------------------------------------------\u001b[39m",
      "\u001b[31mAttributeError\u001b[39m                            Traceback (most recent call last)",
      "\u001b[36mCell\u001b[39m\u001b[36m \u001b[39m\u001b[32mIn[73]\u001b[39m\u001b[32m, line 6\u001b[39m\n\u001b[32m      4\u001b[39m \u001b[38;5;28mprint\u001b[39m(\u001b[33m\"\u001b[39m\u001b[33mStarting research...\u001b[39m\u001b[33m\"\u001b[39m)\n\u001b[32m      5\u001b[39m search_plan = \u001b[38;5;28;01mawait\u001b[39;00m plan_searches(query)\n\u001b[32m----> \u001b[39m\u001b[32m6\u001b[39m search_results = \u001b[38;5;28;01mawait\u001b[39;00m perform_searches(search_plan)\n\u001b[32m      7\u001b[39m report = \u001b[38;5;28;01mawait\u001b[39;00m write_report(query, search_results)\n\u001b[32m      8\u001b[39m \u001b[38;5;28;01mawait\u001b[39;00m send_email(report)  \n",
      "\u001b[36mCell\u001b[39m\u001b[36m \u001b[39m\u001b[32mIn[71]\u001b[39m\u001b[32m, line 16\u001b[39m, in \u001b[36mperform_searches\u001b[39m\u001b[34m(search_plan)\u001b[39m\n\u001b[32m     13\u001b[39m \u001b[38;5;28mprint\u001b[39m(search_plan.searches)\n\u001b[32m     14\u001b[39m tasks = [asyncio.create_task(search(item)) \u001b[38;5;28;01mfor\u001b[39;00m item \u001b[38;5;129;01min\u001b[39;00m search_plan.searches]\n\u001b[32m---> \u001b[39m\u001b[32m16\u001b[39m results = \u001b[38;5;28;01mawait\u001b[39;00m asyncio.gather(*tasks)\n\u001b[32m     18\u001b[39m \u001b[38;5;28;01mreturn\u001b[39;00m results\n",
      "\u001b[36mCell\u001b[39m\u001b[36m \u001b[39m\u001b[32mIn[71]\u001b[39m\u001b[32m, line 23\u001b[39m, in \u001b[36msearch\u001b[39m\u001b[34m(item)\u001b[39m\n\u001b[32m     21\u001b[39m \u001b[38;5;28;01masync\u001b[39;00m \u001b[38;5;28;01mdef\u001b[39;00m\u001b[38;5;250m \u001b[39m\u001b[34msearch\u001b[39m(item: WebSearchItem):\n\u001b[32m     22\u001b[39m \u001b[38;5;250m     \u001b[39m\u001b[33;03m\"\"\" Use the search agent to run a web search for each item in the search plan \"\"\"\u001b[39;00m\n\u001b[32m---> \u001b[39m\u001b[32m23\u001b[39m      \u001b[38;5;28minput\u001b[39m = \u001b[33mf\u001b[39m\u001b[33m\"\u001b[39m\u001b[33mSearch term: \u001b[39m\u001b[38;5;132;01m{\u001b[39;00m\u001b[43mitem\u001b[49m\u001b[43m.\u001b[49m\u001b[43mquery\u001b[49m\u001b[38;5;132;01m}\u001b[39;00m\u001b[33m \u001b[39m\u001b[38;5;130;01m\\n\u001b[39;00m\u001b[33mReason for searching: \u001b[39m\u001b[38;5;132;01m{\u001b[39;00mitem.reason\u001b[38;5;132;01m}\u001b[39;00m\u001b[33m\"\u001b[39m\n\u001b[32m     24\u001b[39m      result = \u001b[38;5;28;01mawait\u001b[39;00m Runner.run(search_agent, \u001b[38;5;28minput\u001b[39m)\n\u001b[32m     25\u001b[39m      \u001b[38;5;28;01mreturn\u001b[39;00m result.final_output\n",
      "\u001b[31mAttributeError\u001b[39m: 'str' object has no attribute 'query'"
     ]
    }
   ],
   "source": [
    "query =\"Latest AI Agent frameworks in 2025\"\n",
    "\n",
    "with trace(\"Research trace\"):\n",
    "    print(\"Starting research...\")\n",
    "    search_plan = await plan_searches(query)\n",
    "    search_results = await perform_searches(search_plan)\n",
    "    report = await write_report(query, search_results)\n",
    "    await send_email(report)  \n",
    "    print(\"Hooray!\")"
   ]
  },
  {
   "cell_type": "code",
   "execution_count": null,
   "id": "31c437a2",
   "metadata": {},
   "outputs": [],
   "source": []
  }
 ],
 "metadata": {
  "kernelspec": {
   "display_name": ".venv",
   "language": "python",
   "name": "python3"
  },
  "language_info": {
   "codemirror_mode": {
    "name": "ipython",
    "version": 3
   },
   "file_extension": ".py",
   "mimetype": "text/x-python",
   "name": "python",
   "nbconvert_exporter": "python",
   "pygments_lexer": "ipython3",
   "version": "3.13.1"
  }
 },
 "nbformat": 4,
 "nbformat_minor": 5
}
