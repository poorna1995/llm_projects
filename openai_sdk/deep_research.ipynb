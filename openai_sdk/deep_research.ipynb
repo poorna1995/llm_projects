{
 "cells": [
  {
   "cell_type": "code",
   "execution_count": 1,
   "id": "2b5022fa",
   "metadata": {},
   "outputs": [],
   "source": [
    "from agents import Agent, trace, Runner, gen_trace_id, function_tool\n",
    "from agents.model_settings import ModelSettings\n",
    "from pydantic import BaseModel, Field\n",
    "from dotenv import load_dotenv\n",
    "import asyncio\n",
    "import sendgrid\n",
    "import os\n",
    "from sendgrid.helpers.mail import Mail, Email, To, Content\n",
    "from typing import Dict\n",
    "from IPython.display import Markdown ,display\n",
    "from duckduckgo_search import DDGS\n",
    "\n",
    "import requests"
   ]
  },
  {
   "cell_type": "markdown",
   "id": "5d74740a",
   "metadata": {},
   "source": [
    "### Defin an search agents\n"
   ]
  },
  {
   "cell_type": "code",
   "execution_count": 2,
   "id": "cc270abd",
   "metadata": {},
   "outputs": [],
   "source": [
    "INSTRUCTIONS = \"You are a research assistant. Given a search term, you search the web for that term and \\\n",
    "produce a concise summary of the results. The summary must 2-3 paragraphs and less than 300 \\\n",
    "words. Capture the main points. Write succintly, no need to have complete sentences or good \\\n",
    "grammar. This will be consumed by someone synthesizing a report, so it's vital you capture the \\\n",
    "essence and ignore any fluff. Do not include any additional commentary other than the summary itself.\"\n"
   ]
  },
  {
   "cell_type": "code",
   "execution_count": 3,
   "id": "ac53757c",
   "metadata": {},
   "outputs": [],
   "source": [
    "from langchain.tools import DuckDuckGoSearchRun"
   ]
  },
  {
   "cell_type": "code",
   "execution_count": null,
   "id": "f21bc949",
   "metadata": {},
   "outputs": [],
   "source": []
  },
  {
   "cell_type": "code",
   "execution_count": 6,
   "id": "237c35d1",
   "metadata": {},
   "outputs": [],
   "source": [
    "@function_tool\n",
    "def duckduckgo_search(query:str) ->str:\n",
    "    print(f\"Running DuckDuckGo news search for {query}...\")\n",
    "    \n",
    "    # DuckDuckGo search\n",
    "    ddg_api = DDGS()\n",
    "    results = ddg_api.text(f\"{query} \", max_results=5)\n",
    "    if results:\n",
    "        news_results = \"\\n\\n\".join([f\"Title: {result['title']}\\nURL: {result['href']}\\nDescription: {result['body']}\" for result in results])\n",
    "        print(news_results)\n",
    "        return news_results\n",
    "    else:\n",
    "        return f\"Could not find news results for {query}.\""
   ]
  },
  {
   "cell_type": "code",
   "execution_count": 7,
   "id": "ff30d84e",
   "metadata": {},
   "outputs": [],
   "source": [
    "search_agent = Agent(\n",
    "    model = 'gpt-4o-mini',\n",
    "    instructions = INSTRUCTIONS,\n",
    "    tools = [duckduckgo_search],\n",
    "    model_settings = ModelSettings(tool_choice ='required'),\n",
    "    name = 'search engine'\n",
    ")"
   ]
  },
  {
   "cell_type": "code",
   "execution_count": 8,
   "id": "2a832420",
   "metadata": {},
   "outputs": [
    {
     "name": "stdout",
     "output_type": "stream",
     "text": [
      "Running DuckDuckGo news search for Latest AI Agent frameworks 2025...\n"
     ]
    },
    {
     "name": "stderr",
     "output_type": "stream",
     "text": [
      "/var/folders/gs/h8mf896s1xg8g6h294c83l2m0000gq/T/ipykernel_86806/1279637125.py:6: RuntimeWarning: This package (`duckduckgo_search`) has been renamed to `ddgs`! Use `pip install ddgs` instead.\n",
      "  ddg_api = DDGS()\n"
     ]
    },
    {
     "name": "stdout",
     "output_type": "stream",
     "text": [
      "Running DuckDuckGo news search for AI Agent frameworks 2025...\n",
      "Title: 用哪些AI软件写python代码最好？ - 知乎\n",
      "URL: https://www.zhihu.com/question/1906332249625960991\n",
      "Description: “别看你今天写得欢，小心回头被AI写得比你还卷。” 现在不管你是写接口、撸爬虫、搞数据分析，还是调神经网络，谁还真拿手撸全套代码，那是吃饱撑的。AI工具这玩意儿，整明白了—— …\n",
      "\n",
      "Title: 全球AI模型发布时间线 (持续更新) - 知乎\n",
      "URL: https://www.zhihu.com/tardis/bd/art/14903006525\n",
      "Description: Aug 10, 2025 · 发布 AI视频编辑功能，基于Movie Gen和Llama Image模型，允许用户用多个预设AI提示编辑短视频，改变服装、地点、风格等，可在Meta AI应用程序、Meta.AI网站和Edits应 …\n",
      "\n",
      "Title: AI 技术的核心本质是什么？背后的技术原理有哪些？ - 知乎\n",
      "URL: https://www.zhihu.com/question/571427849\n",
      "Description: 目前的 AI大模型本质是，以统计规律代替逻辑规律，以相关性代替因果性，以海量参数的函数拟合出输入输出算法。 具体的技术原理：1 是通过数据集获得统计规律，2是通过统计规律进行插 …\n",
      "\n",
      "Title: 阿水AI是不是跑路了？ - 知乎\n",
      "URL: https://www.zhihu.com/question/6194229987/answers/updated\n",
      "Description: 199元AI模型永久会员，该团队已经跑路了，模型已于2023年就已经停止更新，现在是被欧艺接手，但人家只放出个 欧艺7.0 供已够买永久会员来使用，最新的模型是 欧艺8.0，两者并不相 …\n",
      "\n",
      "Title: 目前有哪些主流的AI？ - 知乎\n",
      "URL: https://www.zhihu.com/question/591009674\n",
      "Description: 1、AI 写作类 ①ChatGPT： chat.openai.com 知名度最高的AI，最好用 ②Ntion AI： notion.ai 非常流畅好用的文档写作类工具 ③Claude： claude.ai ChatGPT的最为有力的竞争对手之一 ④百度 …\n"
     ]
    },
    {
     "name": "stderr",
     "output_type": "stream",
     "text": [
      "/var/folders/gs/h8mf896s1xg8g6h294c83l2m0000gq/T/ipykernel_86806/1279637125.py:6: RuntimeWarning: This package (`duckduckgo_search`) has been renamed to `ddgs`! Use `pip install ddgs` instead.\n",
      "  ddg_api = DDGS()\n"
     ]
    },
    {
     "name": "stdout",
     "output_type": "stream",
     "text": [
      "Running DuckDuckGo news search for AI Agent frameworks updates 2025...\n"
     ]
    },
    {
     "name": "stderr",
     "output_type": "stream",
     "text": [
      "/var/folders/gs/h8mf896s1xg8g6h294c83l2m0000gq/T/ipykernel_86806/1279637125.py:6: RuntimeWarning: This package (`duckduckgo_search`) has been renamed to `ddgs`! Use `pip install ddgs` instead.\n",
      "  ddg_api = DDGS()\n"
     ]
    },
    {
     "name": "stdout",
     "output_type": "stream",
     "text": [
      "Title: AI Agent Frameworks Are Blowing Up - DEV Community\n",
      "URL: https://dev.to/therealmrmumba/ai-agent-frameworks-are-blowing-up-here-are-the-top-10-for-developers-in-2025-9aj\n",
      "Description: Jul 10, 2025 · This guide breaks down 10 standout AI agent frameworks in 2025 — spanning from intuitive low-code visual …\n",
      "\n",
      "Title: Top 7 Frameworks for Building AI Agents in 2025 - Analytics Vidhya\n",
      "URL: https://www.analyticsvidhya.com/blog/2024/07/ai-agent-frameworks/\n",
      "Description: Apr 4, 2025 · AI agent frameworks are software platforms designed to simplify creating, deploying, and managing AI agents. These frameworks provide developers with pre-built components, abstractions, and tools that streamline the development of complex AI systems.\n",
      "\n",
      "Title: Best AI Agent Frameworks in 2025: Comparing LangGraph, DSPy, Cr…\n",
      "URL: https://langwatch.ai/blog/best-ai-agent-frameworks-in-2025-comparing-langgraph-dspy-crewai-agno-and-more\n",
      "Description: As the ecosystem for LLM-powered agents matures in 2025, developers face an increasingly rich — and fragmented — set of choices when building production-ready AI agents.\n",
      "\n",
      "Title: Top 7 AI Agent Frameworks for Developers in 2025 - pageon.ai\n",
      "URL: https://www.pageon.ai/blog/ai-agent-frameworks\n",
      "Description: As I explore the rapidly evolving world of AI in 2025, I'm continually amazed by how AI agent frameworks have transformed from …\n",
      "\n",
      "Title: Top 9 AI Agent Frameworks as of August 2025 | Shakudo\n",
      "URL: https://www.shakudo.io/blog/top-9-ai-agent-frameworks\n",
      "Description: Aug 11, 2025 · Latest ranking of AI agent frameworks for autonomous systems. In-depth analysis of features, capabilities, and enterprise use cases.\n"
     ]
    }
   ],
   "source": [
    "message = \"Latest AI Agent frameworks in 2025\"\n",
    "\n",
    "\n",
    "with trace(\"search\"):\n",
    "    result = await Runner.run(search_agent, message)"
   ]
  },
  {
   "cell_type": "code",
   "execution_count": 28,
   "id": "4e1b1f29",
   "metadata": {},
   "outputs": [
    {
     "data": {
      "text/markdown": [
       "### Outline for the Report on Latest AI Agent Frameworks in 2025\n",
       "\n",
       "**I. Introduction**\n",
       "   - A. Definition of AI Agents\n",
       "   - B. Importance of AI Agents in 2025\n",
       "   - C. Objectives of the Report\n",
       "\n",
       "**II. Evolution of AI Agent Frameworks**\n",
       "   - A. Historical Context\n",
       "   - B. Development Trends Leading to 2025\n",
       "   - C. Key Factors Driving Innovation\n",
       "\n",
       "**III. Overview of Prominent AI Agent Frameworks in 2025**\n",
       "   - A. Framework 1: [Name and Description]\n",
       "   - B. Framework 2: [Name and Description]\n",
       "   - C. Framework 3: [Name and Description]\n",
       "   - D. Comparative Analysis of the Frameworks\n",
       "\n",
       "**IV. Key Features and Innovations**\n",
       "   - A. Natural Language Processing Enhancements\n",
       "   - B. Machine Learning Capabilities\n",
       "   - C. Interactivity and User Experience Improvements\n",
       "   - D. Ethical Considerations and Safety Measures\n",
       "\n",
       "**V. Applications of AI Agents in Different Sectors**\n",
       "   - A. Healthcare\n",
       "   - B. Finance\n",
       "   - C. Education\n",
       "   - D. Customer Service\n",
       "   - E. Other Emerging Sectors\n",
       "\n",
       "**VI. Challenges and Limitations**\n",
       "   - A. Technical Challenges\n",
       "   - B. Ethical Dilemmas\n",
       "   - C. Market Adoption Issues\n",
       "\n",
       "**VII. Future Directions**\n",
       "   - A. Emerging Trends\n",
       "   - B. Predictions for AI Agent Development Beyond 2025\n",
       "   - C. Role of Collaboration and Open Source\n",
       "\n",
       "**VIII. Conclusion**\n",
       "   - A. Summary of Key Findings\n",
       "   - B. Final Thoughts on AI Agents in the Future\n",
       "\n",
       "### Report on Latest AI Agent Frameworks in 2025\n",
       "\n",
       "---\n",
       "\n",
       "## I. Introduction\n",
       "\n",
       "### A. Definition of AI Agents\n",
       "AI agents are autonomous software systems designed to perform tasks that typically require human intelligence. These include understanding natural language, learning from experience, solving problems, and making decisions.\n",
       "\n",
       "### B. Importance of AI Agents in 2025\n",
       "By 2025, AI agents have become pivotal in transforming industries, enhancing productivity, and improving user experiences. Their ability to integrate with various technologies and platforms has led to their widespread adoption.\n",
       "\n",
       "### C. Objectives of the Report\n",
       "This report aims to provide a thorough analysis of the latest AI agent frameworks in 2025, examining their features, applications, challenges, and the future direction of this technology.\n",
       "\n",
       "## II. Evolution of AI Agent Frameworks\n",
       "\n",
       "### A. Historical Context\n",
       "The concept of AI agents has evolved from simple rule-based systems to sophisticated entities capable of learning and adapting. Earlier frameworks focused mainly on scripted interactions, while modern agents leverage deep learning to understand context and intent.\n",
       "\n",
       "### B. Development Trends Leading to 2025\n",
       "The surge in data availability and advancements in computing power have significantly contributed to the rapid evolution of AI agent frameworks. Additionally, developments in machine learning algorithms and neural networks have enabled more sophisticated interactions.\n",
       "\n",
       "### C. Key Factors Driving Innovation\n",
       "Factors such as the rise of cloud computing, the expansion of the Internet of Things (IoT), and the increasing demand for intelligent customer interactions have driven innovation in AI agent frameworks.\n",
       "\n",
       "## III. Overview of Prominent AI Agent Frameworks in 2025\n",
       "\n",
       "### A. Framework 1: DeepAgent\n",
       "**Description:** DeepAgent utilizes advanced neural networks to create context-aware responses, focusing on improving user engagement across platforms.\n",
       "\n",
       "### B. Framework 2: AgileAI\n",
       "**Description:** AgileAI incorporates agile development methodologies, allowing developers to iteratively enhance the agent's capabilities based on real user feedback.\n",
       "\n",
       "### C. Framework 3: OpenMind\n",
       "**Description:** OpenMind is an open-source AI agent framework that promotes community collaboration and rapid feature development through shared contributions.\n",
       "\n",
       "### D. Comparative Analysis of the Frameworks\n",
       "Each framework offers unique benefits, such as user customization, scalable architectures, and typically varying degrees of support for data privacy. DeepAgent excels in user interaction, AgileAI in adaptability, and OpenMind in community-driven innovation.\n",
       "\n",
       "## IV. Key Features and Innovations\n",
       "\n",
       "### A. Natural Language Processing Enhancements\n",
       "Advancements in natural language processing (NLP) have allowed AI agents to understand and process human language more accurately, enabling smoother conversations and interactions.\n",
       "\n",
       "### B. Machine Learning Capabilities\n",
       "Machine learning algorithms have improved significantly, allowing AI agents to learn from user interactions and provide personalized responses.\n",
       "\n",
       "### C. Interactivity and User Experience Improvements\n",
       "Modern frameworks emphasize user experience, creating more intuitive interfaces and smoother interactions that enhance overall satisfaction.\n",
       "\n",
       "### D. Ethical Considerations and Safety Measures\n",
       "With the rise of AI, ethical considerations have become paramount. Frameworks are now equipped with safety mechanisms to safeguard user data and mitigate biases in decision-making processes.\n",
       "\n",
       "## V. Applications of AI Agents in Different Sectors\n",
       "\n",
       "### A. Healthcare\n",
       "AI agents assist in patient management, symptom checks, and telemedicine, providing timely responses and improving healthcare delivery.\n",
       "\n",
       "### B. Finance\n",
       "In finance, AI agents are employed for fraud detection, investment advisory, and customer support, enabling rapid decision-making and efficient service.\n",
       "\n",
       "### C. Education\n",
       "AI agents enhance learning experiences by personalizing educational content and providing real-time feedback to students and educators.\n",
       "\n",
       "### D. Customer Service\n",
       "Many organizations utilize AI agents for customer support, significantly reducing wait times and improving service efficiency.\n",
       "\n",
       "### E. Other Emerging Sectors\n",
       "Industries such as agriculture, retail, and entertainment are beginning to leverage AI agents for various applications, demonstrating their versatility.\n",
       "\n",
       "## VI. Challenges and Limitations\n",
       "\n",
       "### A. Technical Challenges\n",
       "Despite advancements, technical hurdles like data privacy, integration complexities, and the need for continuous learning remain significant challenges.\n",
       "\n",
       "### B. Ethical Dilemmas\n",
       "Issues surrounding accountability for AI decisions, bias in algorithms, and the potential for job displacement are pressing ethical concerns.\n",
       "\n",
       "### C. Market Adoption Issues\n",
       "Many organizations still face resistance to adopting AI technologies, often due to the perceived risks and associated costs.\n",
       "\n",
       "## VII. Future Directions\n",
       "\n",
       "### A. Emerging Trends\n",
       "The future of AI agents will likely see increased collaboration between humans and machines as these systems grow more integrated into daily workflows.\n",
       "\n",
       "### B. Predictions for AI Agent Development Beyond 2025\n",
       "Expect the rise of hyper-personalized AI interactions, where agents will leverage vast amounts of data to deliver tailored experiences on an individual level.\n",
       "\n",
       "### C. Role of Collaboration and Open Source\n",
       "Open-source frameworks will continue to play a crucial role in driving innovation and accessibility in the field of AI agents.\n",
       "\n",
       "## VIII. Conclusion\n",
       "\n",
       "### A. Summary of Key Findings\n",
       "AI agent frameworks in 2025 represent a culmination of years of research and development, demonstrating significant advancements in capabilities, applications, and ethical considerations.\n",
       "\n",
       "### B. Final Thoughts on AI Agents in the Future\n",
       "As we move forward, AI agents will increasingly become integral to our digital experiences, shaping how we interact with technology and each other.\n",
       "\n",
       "---\n",
       "\n",
       "This analytical report provides a detailed overview of the state of AI agent frameworks as of 2025, exploring their evolution, prominent examples, and implications across various sectors while considering ethical challenges and future prospects."
      ],
      "text/plain": [
       "<IPython.core.display.Markdown object>"
      ]
     },
     "metadata": {},
     "output_type": "display_data"
    }
   ],
   "source": [
    "display(Markdown(result.final_output))"
   ]
  },
  {
   "cell_type": "code",
   "execution_count": 29,
   "id": "5974e19a",
   "metadata": {},
   "outputs": [],
   "source": [
    "HOW_MANY_SEARCHES = 3\n",
    "\n",
    "INSTRUCTIONS = f\"You are a helpful research assistant. Given a query, come up with a set of web searches \\\n",
    "to perform to best answer the query. Output {HOW_MANY_SEARCHES} terms to query for.\"\n"
   ]
  },
  {
   "cell_type": "code",
   "execution_count": 30,
   "id": "3cc2aa59",
   "metadata": {},
   "outputs": [
    {
     "data": {
      "text/plain": [
       "'You are a helpful research assistant. Given a query, come up with a set of web searches to perform to best answer the query. Output 3 terms to query for.'"
      ]
     },
     "execution_count": 30,
     "metadata": {},
     "output_type": "execute_result"
    }
   ],
   "source": [
    "INSTRUCTIONS"
   ]
  },
  {
   "cell_type": "code",
   "execution_count": 31,
   "id": "e4afebc2",
   "metadata": {},
   "outputs": [],
   "source": [
    "class WebSearchItem(BaseModel):\n",
    "    reason : str = Field(description=\"Your reasoning for why this search is important to the query.\")\n",
    "\n",
    "    query :str = Field(description=\"the search term to use for the websearch\")"
   ]
  },
  {
   "cell_type": "code",
   "execution_count": 32,
   "id": "f1a6658d",
   "metadata": {},
   "outputs": [],
   "source": [
    "class WebSearchPlan(BaseModel):\n",
    "    searches : list[str] = Field(description=\"A list of web searches to perform to best answer the query.\")\n",
    "\n",
    "\n",
    "planner_Agent = Agent(\n",
    "    name = \"Planner Agent\",\n",
    "    instructions = INSTRUCTIONS,\n",
    "    model = 'gpt-4o-mini',\n",
    "    output_type = WebSearchPlan\n",
    ")"
   ]
  },
  {
   "cell_type": "code",
   "execution_count": 33,
   "id": "2b6d55d2",
   "metadata": {},
   "outputs": [],
   "source": [
    "result = await Runner.run(planner_Agent, \"Latest AI Agent framworks in 2025\")"
   ]
  },
  {
   "cell_type": "code",
   "execution_count": 34,
   "id": "71de8084",
   "metadata": {},
   "outputs": [
    {
     "data": {
      "text/plain": [
       "WebSearchPlan(searches=['latest AI agent frameworks 2025', 'AI development platforms 2025', 'emerging AI frameworks 2025'])"
      ]
     },
     "execution_count": 34,
     "metadata": {},
     "output_type": "execute_result"
    }
   ],
   "source": [
    "result.final_output"
   ]
  },
  {
   "cell_type": "code",
   "execution_count": 35,
   "id": "0c758b12",
   "metadata": {},
   "outputs": [],
   "source": [
    "@function_tool\n",
    "def send_email(subject: str, html_body: str) -> Dict[str, str]:\n",
    "    \"\"\" Send out an email with the given subject and HTML body \"\"\"\n",
    "    sg = sendgrid.SendGridAPIClient(api_key=os.environ.get('SENDGRID_API_KEY'))\n",
    "    from_email = Email(\"dpoorna1995@gmail.com\") # Change this to your verified email\n",
    "    to_email = To(\"poorna7d@gmail.com\") # Change this to your email\n",
    "    content = Content(\"text/html\", html_body)\n",
    "    mail = Mail(from_email, to_email, subject, content).get()\n",
    "    response = sg.client.mail.send.post(request_body=mail)\n",
    "    return {\"status\": \"success\"}"
   ]
  },
  {
   "cell_type": "code",
   "execution_count": 36,
   "id": "c78e0567",
   "metadata": {},
   "outputs": [],
   "source": [
    "INSTRUCTIONS = \"\"\"You are able to send a nicely formatted HTML email based on a detailed report.\n",
    "You will be provided with a detailed report. You should use your tool to send one email, providing the \n",
    "report converted into clean, well presented HTML with an appropriate subject line.\"\"\"\n",
    "\n",
    "email_agent = Agent(\n",
    "    name=\"Email agent\",\n",
    "    instructions=INSTRUCTIONS,\n",
    "    tools=[send_email],\n",
    "    model=\"gpt-4o-mini\",\n",
    ")\n",
    "\n"
   ]
  },
  {
   "cell_type": "code",
   "execution_count": 37,
   "id": "2b023f72",
   "metadata": {},
   "outputs": [],
   "source": [
    "INSTRUCTIONS = (\n",
    "    \"You are a senior researcher tasked with writing a cohesive report for a research query. \"\n",
    "    \"You will be provided with the original query, and some initial research done by a research assistant.\\n\"\n",
    "    \"You should first come up with an outline for the report that describes the structure and \"\n",
    "    \"flow of the report. Then, generate the report and return that as your final output.\\n\"\n",
    "    \"The final output should be in markdown format, and it should be lengthy and detailed. Aim \"\n",
    "    \"for 5-10 pages of content, at least 1000 words.\"\n",
    ")\n",
    "\n",
    "\n",
    "class ReportData(BaseModel):\n",
    "    short_summary: str = Field(description=\"A short 2-3 sentence summary of the findings.\")\n",
    "\n",
    "    markdown_report: str = Field(description=\"The final report\")\n",
    "\n",
    "    follow_up_questions: list[str] = Field(description=\"Suggested topics to research further\")\n",
    "\n",
    "\n",
    "writer_agent = Agent(\n",
    "    name=\"WriterAgent\",\n",
    "    instructions=INSTRUCTIONS,\n",
    "    model=\"gpt-4o-mini\",\n",
    "    output_type=ReportData,\n",
    ")"
   ]
  },
  {
   "cell_type": "code",
   "execution_count": 38,
   "id": "a14aeb05",
   "metadata": {},
   "outputs": [],
   "source": [
    "async def plan_searches(query:str):\n",
    "     \"\"\" Use the planner_agent to plan which searches to run for the query \"\"\"\n",
    "     print(\"Planning searches...\")\n",
    "     result = await Runner.run(planner_Agent, f\"Query :{query}\")\n",
    "     print(f\"Will perform {len(result.final_output.searches)} searches\")\n",
    "\n",
    "     return result.final_output\n",
    "\n",
    "\n",
    "async def perform_searches(search_plan: WebSearchPlan):\n",
    "     \"\"\" Call search() for each item in the search plan \"\"\"\n",
    "     print(\"Searching...\")\n",
    "     print(search_plan.searches)\n",
    "     tasks = [asyncio.create_task(search(item)) for item in search_plan.searches]\n",
    "     \n",
    "     results = await asyncio.gather(*tasks)\n",
    "\n",
    "     return results\n",
    "\n",
    "\n",
    "async def search(item: WebSearchItem):\n",
    "     \"\"\" Use the search agent to run a web search for each item in the search plan \"\"\"\n",
    "     # input = f\"Search term: {item.query} \\nReason for searching: {item.reason}\"\n",
    "     # result = await Runner.run(search_agent, input)\n",
    "     result = await Runner.run(search_agent, query)\n",
    "     return result.final_output\n",
    "\n",
    "\n",
    "\n"
   ]
  },
  {
   "cell_type": "code",
   "execution_count": 39,
   "id": "c7fd7340",
   "metadata": {},
   "outputs": [],
   "source": [
    "async def write_report(query: str, search_results: list[str]):\n",
    "    \"\"\" Use the writer agent to write a report based on the search results\"\"\"\n",
    "    print(\"Thinking about report...\")\n",
    "    input = f\"Original query: {query}\\nSummarized search results: {search_results}\"\n",
    "    result = await Runner.run(writer_agent, input)\n",
    "    print(\"Finished writing report\")\n",
    "    return result.final_output\n",
    "\n",
    "async def send_email(report: ReportData):\n",
    "    \"\"\" Use the email agent to send an email with the report \"\"\"\n",
    "    print(\"Writing email...\")\n",
    "    result = await Runner.run(email_agent, report.markdown_report)\n",
    "    print(\"Email sent\")\n",
    "    return report"
   ]
  },
  {
   "cell_type": "code",
   "execution_count": 40,
   "id": "c1228979",
   "metadata": {},
   "outputs": [
    {
     "name": "stdout",
     "output_type": "stream",
     "text": [
      "Starting research...\n",
      "Planning searches...\n",
      "Will perform 3 searches\n",
      "Searching...\n",
      "['latest AI agent frameworks 2025', 'top AI frameworks 2025', 'emerging AI agent technologies 2025']\n",
      "Running DuckDuckGo news search for Latest AI Agent frameworks 2025...\n"
     ]
    },
    {
     "name": "stderr",
     "output_type": "stream",
     "text": [
      "/var/folders/gs/h8mf896s1xg8g6h294c83l2m0000gq/T/ipykernel_5113/1279637125.py:6: RuntimeWarning: This package (`duckduckgo_search`) has been renamed to `ddgs`! Use `pip install ddgs` instead.\n",
      "  ddg_api = DDGS()\n"
     ]
    },
    {
     "name": "stdout",
     "output_type": "stream",
     "text": [
      "Running DuckDuckGo news search for Latest AI Agent frameworks in 2025...\n"
     ]
    },
    {
     "name": "stderr",
     "output_type": "stream",
     "text": [
      "/var/folders/gs/h8mf896s1xg8g6h294c83l2m0000gq/T/ipykernel_5113/1279637125.py:6: RuntimeWarning: This package (`duckduckgo_search`) has been renamed to `ddgs`! Use `pip install ddgs` instead.\n",
      "  ddg_api = DDGS()\n"
     ]
    },
    {
     "name": "stdout",
     "output_type": "stream",
     "text": [
      "Title: Top 7 Frameworks for Building AI Agents in 2025 - Analytics …\n",
      "URL: https://www.analyticsvidhya.com/blog/2024/07/ai-agent-frameworks/\n",
      "Description: Apr 4, 2025 · Explore AI Agent Frameworks like Langchain, CrewAI, and Microsoft Semantic Kernel. Understand their key importance in AI development.\n",
      "\n",
      "Title: Top 9 AI Agent Frameworks as of August 2025 | Shakudo\n",
      "URL: https://www.shakudo.io/blog/top-9-ai-agent-frameworks\n",
      "Description: Aug 11, 2025 · Latest ranking of AI agent frameworks for autonomous systems. In-depth analysis of features, capabilities, and enterprise use cases.\n",
      "\n",
      "Title: Top AI Agent Frameworks in 2025 - Medium\n",
      "URL: https://medium.com/@elisowski/top-ai-agent-frameworks-in-2025-9bcedab2e239\n",
      "Description: Discover the most popular AI agent frameworks like LangChain and AutoGen. A simple guide to help you choose the right tools for building smarter, autonomous AI workflows.\n",
      "\n",
      "Title: Top 7 AI Agent Frameworks for Developers in 2025 - pageon.ai\n",
      "URL: https://www.pageon.ai/blog/ai-agent-frameworks\n",
      "Description: As I explore the rapidly evolving world of AI in 2025, I'm continually amazed by how AI agent frameworks have transformed from simple language model integrations into sophisticated …\n",
      "\n",
      "Title: Top AI Agent Frameworks 2025: Comparison & Best Picks\n",
      "URL: https://eastgate-software.com/top-ai-agent-frameworks-2025-comparison-best-picks/\n",
      "Description: Aug 25, 2025 · This article provides a comprehensive AI agent framework comparison, highlighting the top AI agent frameworks of 2025, their unique advantages, and practical use …\n",
      "Running DuckDuckGo news search for latest AI agent frameworks 2025...\n"
     ]
    },
    {
     "name": "stderr",
     "output_type": "stream",
     "text": [
      "/var/folders/gs/h8mf896s1xg8g6h294c83l2m0000gq/T/ipykernel_5113/1279637125.py:6: RuntimeWarning: This package (`duckduckgo_search`) has been renamed to `ddgs`! Use `pip install ddgs` instead.\n",
      "  ddg_api = DDGS()\n"
     ]
    },
    {
     "name": "stdout",
     "output_type": "stream",
     "text": [
      "Title: Top AI Agent Frameworks 2025 - scalacode.com\n",
      "URL: https://www.scalacode.com/blog/ai-agent-frameworks/\n",
      "Description: Jul 24, 2025 · Discover the top AI agent frameworks & tools of 2025 empowering developers to build smarter, scalable, and future-ready AI solutions.\n",
      "\n",
      "Title: Top 7 AI Agent Frameworks for Developers in 2025\n",
      "URL: https://www.pageon.ai/blog/ai-agent-frameworks\n",
      "Description: Explore the top AI agent frameworks for 2025. Our guide compares LangChain, OpenAI's SDK, and more, covering architecture, selection criteria, and future trends.\n",
      "\n",
      "Title: Top Agentic AI Frameworks 2025: Future Trends & Innovations\n",
      "URL: https://startelelogic.com/blog/top-agentic-ai-frameworks-to-watch-in-2025/\n",
      "Description: In this article, we will look at the top agentic AI frameworks of 2025 that are ready to change industries like healthcare, finance, logistics, and more. We will also discuss how these leading …\n",
      "\n",
      "Title: Top AI Agent Frameworks 2025: Tools & Architectures\n",
      "URL: https://worldwidedigest.com/top-ai-agent-frameworks-2025-tools-stacks-and-architectures/\n",
      "Description: Jul 9, 2025 · Explore the leading AI agent frameworks of 2025. Learn about key tools, technology stacks, and architecture patterns to build smart systems.\n",
      "\n",
      "Title: Top 9 AI Agent Frameworks as of August 2025 | Shakudo\n",
      "URL: https://www.shakudo.io/blog/top-9-ai-agent-frameworks\n",
      "Description: Aug 11, 2025 · Latest ranking of AI agent frameworks for autonomous systems. In-depth analysis of features, capabilities, and enterprise use cases.\n",
      "Thinking about report...\n",
      "Finished writing report\n",
      "Writing email...\n",
      "Email sent\n",
      "Hooray!\n"
     ]
    }
   ],
   "source": [
    "query =\"Latest AI Agent frameworks in 2025\"\n",
    "\n",
    "with trace(\"Research trace\"):\n",
    "    print(\"Starting research...\")\n",
    "    search_plan = await plan_searches(query)\n",
    "    search_results = await perform_searches(search_plan)\n",
    "    report = await write_report(query, search_results)\n",
    "    await send_email(report)  \n",
    "    print(\"Hooray!\")"
   ]
  },
  {
   "cell_type": "code",
   "execution_count": null,
   "id": "31c437a2",
   "metadata": {},
   "outputs": [],
   "source": []
  }
 ],
 "metadata": {
  "kernelspec": {
   "display_name": ".venv",
   "language": "python",
   "name": "python3"
  },
  "language_info": {
   "codemirror_mode": {
    "name": "ipython",
    "version": 3
   },
   "file_extension": ".py",
   "mimetype": "text/x-python",
   "name": "python",
   "nbconvert_exporter": "python",
   "pygments_lexer": "ipython3",
   "version": "3.13.1"
  }
 },
 "nbformat": 4,
 "nbformat_minor": 5
}
