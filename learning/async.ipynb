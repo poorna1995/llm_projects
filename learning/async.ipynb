{
 "cells": [
  {
   "cell_type": "code",
   "execution_count": 1,
   "id": "3c187e28",
   "metadata": {},
   "outputs": [],
   "source": [
    "import asyncio"
   ]
  },
  {
   "cell_type": "code",
   "execution_count": 8,
   "id": "8c8075a1",
   "metadata": {},
   "outputs": [
    {
     "name": "stdout",
     "output_type": "stream",
     "text": [
      "['poorna ', 'reading ', 'book ']\n"
     ]
    }
   ],
   "source": [
    "async def task(name, seconds):\n",
    "    await asyncio.sleep(seconds)\n",
    "    return f\"{name} \"\n",
    "\n",
    "\n",
    "async def main():\n",
    "    results = await asyncio.gather(\n",
    "        task(\"poorna\", 1),\n",
    "        task(\"reading\", 4),\n",
    "        task(\"book\", 3)\n",
    "    )\n",
    "    print(results)\n",
    "\n",
    "await main()\n",
    "    "
   ]
  },
  {
   "cell_type": "code",
   "execution_count": 6,
   "id": "93c0ef3b",
   "metadata": {},
   "outputs": [
    {
     "name": "stdout",
     "output_type": "stream",
     "text": [
      "Hello poorna!\n",
      "Goodbye poorna!\n"
     ]
    }
   ],
   "source": [
    "async def greet(name):\n",
    "    print(f\"Hello {name}!\")\n",
    "    await asyncio.sleep(4)\n",
    "    print(f\"Goodbye {name}!\")\n",
    "\n",
    "await greet(\"poorna\")\n",
    "\n",
    "\n"
   ]
  },
  {
   "cell_type": "code",
   "execution_count": 9,
   "id": "08e6e88e",
   "metadata": {},
   "outputs": [
    {
     "name": "stdout",
     "output_type": "stream",
     "text": [
      "poorna!\n",
      "reading!\n",
      "book!\n"
     ]
    }
   ],
   "source": [
    "async def task(name, seconds):\n",
    "\n",
    "    await asyncio.sleep(4)\n",
    "    print(f\"{name}!\")\n",
    "\n",
    "\n",
    "await task(\"poorna\",1)\n",
    "await task(\"reading\",4)\n",
    "await task(\"book\",3)\n",
    "\n",
    "\n"
   ]
  },
  {
   "cell_type": "code",
   "execution_count": 10,
   "id": "788879ef",
   "metadata": {},
   "outputs": [],
   "source": [
    "import asyncio\n",
    "\n",
    "async def do_some_work():\n",
    "    print(\"Starting work\")\n",
    "    await asyncio.sleep(1)\n",
    "    print(\"Work complete\")"
   ]
  },
  {
   "cell_type": "code",
   "execution_count": 11,
   "id": "bc57e184",
   "metadata": {},
   "outputs": [
    {
     "data": {
      "text/plain": [
       "<coroutine object do_some_work at 0x10499d6c0>"
      ]
     },
     "execution_count": 11,
     "metadata": {},
     "output_type": "execute_result"
    }
   ],
   "source": [
    "do_some_work()"
   ]
  },
  {
   "cell_type": "code",
   "execution_count": 12,
   "id": "36238a97",
   "metadata": {},
   "outputs": [
    {
     "name": "stdout",
     "output_type": "stream",
     "text": [
      "Starting work\n",
      "Work complete\n"
     ]
    }
   ],
   "source": [
    "\n",
    "# OK let's try that again!\n",
    "\n",
    "await do_some_work()"
   ]
  },
  {
   "cell_type": "code",
   "execution_count": 13,
   "id": "25b74a0a",
   "metadata": {},
   "outputs": [
    {
     "name": "stderr",
     "output_type": "stream",
     "text": [
      "/var/folders/gs/h8mf896s1xg8g6h294c83l2m0000gq/T/ipykernel_92694/1833959015.py:4: RuntimeWarning: coroutine 'do_some_work' was never awaited\n",
      "  do_some_work()\n",
      "RuntimeWarning: Enable tracemalloc to get the object allocation traceback\n",
      "/var/folders/gs/h8mf896s1xg8g6h294c83l2m0000gq/T/ipykernel_92694/1833959015.py:5: RuntimeWarning: coroutine 'do_some_work' was never awaited\n",
      "  do_some_work()\n",
      "RuntimeWarning: Enable tracemalloc to get the object allocation traceback\n",
      "/var/folders/gs/h8mf896s1xg8g6h294c83l2m0000gq/T/ipykernel_92694/1833959015.py:6: RuntimeWarning: coroutine 'do_some_work' was never awaited\n",
      "  do_some_work()\n",
      "RuntimeWarning: Enable tracemalloc to get the object allocation traceback\n"
     ]
    }
   ],
   "source": [
    "# What's wrong with this?\n",
    "\n",
    "async def do_a_lot_of_work():\n",
    "    do_some_work()\n",
    "    do_some_work()\n",
    "    do_some_work()\n",
    "\n",
    "await do_a_lot_of_work()"
   ]
  },
  {
   "cell_type": "code",
   "execution_count": 14,
   "id": "d28d1d83",
   "metadata": {},
   "outputs": [
    {
     "name": "stdout",
     "output_type": "stream",
     "text": [
      "Starting work\n",
      "Work complete\n",
      "Starting work\n",
      "Work complete\n",
      "Starting work\n",
      "Work complete\n"
     ]
    }
   ],
   "source": [
    "# Interesting warning! Let's fix it\n",
    "\n",
    "async def do_a_lot_of_work():\n",
    "    await do_some_work()\n",
    "    await do_some_work()\n",
    "    await do_some_work()\n",
    "\n",
    "await do_a_lot_of_work()"
   ]
  },
  {
   "cell_type": "code",
   "execution_count": 16,
   "id": "876bad56",
   "metadata": {},
   "outputs": [
    {
     "name": "stdout",
     "output_type": "stream",
     "text": [
      "Starting work\n",
      "Starting work\n",
      "Starting work\n",
      "Work complete\n",
      "Work complete\n",
      "Work complete\n"
     ]
    }
   ],
   "source": [
    "\n",
    "# And now let's do it in parallel\n",
    "# It's important to recognize that this is not \"multi-threading\" in the way that you may be used to\n",
    "# The asyncio library is running on a single thread, but it's using a loop to switch between tasks while one is waiting\n",
    "\n",
    "async def do_a_lot_of_work_in_parallel():\n",
    "    await asyncio.gather(do_some_work(), do_some_work(), do_some_work())\n",
    "\n",
    "await do_a_lot_of_work_in_parallel()"
   ]
  },
  {
   "cell_type": "code",
   "execution_count": 17,
   "id": "7f49050f",
   "metadata": {},
   "outputs": [],
   "source": [
    "async def do_some_processing() -> str:\n",
    "    return \"done\""
   ]
  },
  {
   "cell_type": "code",
   "execution_count": 22,
   "id": "01ae3348",
   "metadata": {},
   "outputs": [],
   "source": [
    "my_corout = do_some_processing()"
   ]
  },
  {
   "cell_type": "code",
   "execution_count": 23,
   "id": "41af4464",
   "metadata": {},
   "outputs": [
    {
     "data": {
      "text/plain": [
       "<coroutine object do_some_processing at 0x104a461f0>"
      ]
     },
     "execution_count": 23,
     "metadata": {},
     "output_type": "execute_result"
    }
   ],
   "source": [
    "my_corout"
   ]
  },
  {
   "cell_type": "code",
   "execution_count": 24,
   "id": "bbdff952",
   "metadata": {},
   "outputs": [
    {
     "data": {
      "text/plain": [
       "'done'"
      ]
     },
     "execution_count": 24,
     "metadata": {},
     "output_type": "execute_result"
    }
   ],
   "source": [
    "result = await my_corout\n",
    "result"
   ]
  },
  {
   "cell_type": "code",
   "execution_count": null,
   "id": "91181bd2",
   "metadata": {},
   "outputs": [],
   "source": []
  }
 ],
 "metadata": {
  "kernelspec": {
   "display_name": ".venv",
   "language": "python",
   "name": "python3"
  },
  "language_info": {
   "codemirror_mode": {
    "name": "ipython",
    "version": 3
   },
   "file_extension": ".py",
   "mimetype": "text/x-python",
   "name": "python",
   "nbconvert_exporter": "python",
   "pygments_lexer": "ipython3",
   "version": "3.13.1"
  }
 },
 "nbformat": 4,
 "nbformat_minor": 5
}
