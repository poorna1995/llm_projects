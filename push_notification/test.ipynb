{
 "cells": [
  {
   "cell_type": "code",
   "execution_count": 102,
   "id": "46cfcc1e",
   "metadata": {},
   "outputs": [],
   "source": [
    "import os\n",
    "from dotenv import load_dotenv\n",
    "import requests\n",
    "from PyPDF2 import PdfReader\n",
    "load_dotenv(override=True)\n",
    "\n",
    "from groq import Groq\n",
    "import gradio as gr\n",
    "\n"
   ]
  },
  {
   "cell_type": "code",
   "execution_count": 103,
   "id": "9f0e7309",
   "metadata": {},
   "outputs": [],
   "source": [
    "# pushover_user = os.getenv(\"PUSHOVER_USER\")\n",
    "# pushover_api= os.getenv(\"PUSHOVER_TOKEN\")\n",
    "# pushover_url = \"https://api.pushover.net/1/messages.json\""
   ]
  },
  {
   "cell_type": "code",
   "execution_count": 104,
   "id": "2f8bd7d9",
   "metadata": {},
   "outputs": [],
   "source": [
    "# if pushover_user:\n",
    "#     print(f'Pushover user found and starts with {pushover_user[:4]}')\n",
    "# else:\n",
    "#     print(\"Pushover user not found\")\n",
    "\n",
    "# if pushover_api:\n",
    "#     print(f'Pushover API found and starts with {pushover_api[:4]}')\n",
    "# else:\n",
    "#     print(\"Pushover API not found\")\n",
    "\n",
    "    "
   ]
  },
  {
   "cell_type": "code",
   "execution_count": 97,
   "id": "5c4c5ac3",
   "metadata": {},
   "outputs": [],
   "source": [
    "def push(text):\n",
    "    payload = {\n",
    "        \"token\": pushover_api,\n",
    "        \"user\": pushover_user,\n",
    "        \"message\": text,\n",
    "        \"title\": \"Pushover Notification\"\n",
    "    }\n",
    "    requests.post(pushover_url, data=payload)"
   ]
  },
  {
   "cell_type": "code",
   "execution_count": 13,
   "id": "9b8e5660",
   "metadata": {},
   "outputs": [],
   "source": [
    "push(\"how are you doing?\")"
   ]
  },
  {
   "cell_type": "code",
   "execution_count": 105,
   "id": "e2451a14",
   "metadata": {},
   "outputs": [],
   "source": [
    "def record_user_details(email, name =\"Name not provided\", notes= \"Notes not provided\"):\n",
    "    push(f'Recording {name} and email {email} and notes {notes}')\n",
    "    return {'recorded':\"ok\"}\n"
   ]
  },
  {
   "cell_type": "code",
   "execution_count": 106,
   "id": "6228aaa9",
   "metadata": {},
   "outputs": [],
   "source": [
    "def record_unknown_question(question):\n",
    "    push(f'Recording question {question}')\n",
    "    return {'recorded':\"ok\"}\n"
   ]
  },
  {
   "cell_type": "code",
   "execution_count": 107,
   "id": "0cc84ea0",
   "metadata": {},
   "outputs": [],
   "source": [
    "# create a tools json file\n",
    "\n",
    "\n",
    "record_user_details_json = {\n",
    "    'name': 'record_user_details',\n",
    "    'description': \"use this tool to record user details\",\n",
    "    'parameter' :{\n",
    "        'type':'object',\n",
    "        'properties':{\n",
    "            'email':{\n",
    "                'type':'string',\n",
    "                'description' : \"The email address of this user\"\n",
    "            },\n",
    "            'name':{\n",
    "                'type':'string',\n",
    "                'description' :\"The user's name, if they provided it\"\n",
    "\n",
    "            },\n",
    "            'notes':{\n",
    "                'type':'string',\n",
    "                'description' : \"Any additional information about the conversation that's worth recording to give context\"\n",
    "            },\n",
    "\n",
    "        },\n",
    "        'required':['email'],\n",
    "        \"additionalProperties\":False\n",
    "    }\n",
    "\n",
    "\n",
    "\n",
    "}"
   ]
  },
  {
   "cell_type": "code",
   "execution_count": 108,
   "id": "b7e7fe17",
   "metadata": {},
   "outputs": [],
   "source": [
    "record_unknown_question_json ={\n",
    "    'name':'record_unknown_question',\n",
    "    'description':\"Always use this tool to record any question that couldn't be answered as you didn't know the answer\",\n",
    "    'parameter':{\n",
    "        'type':'object',\n",
    "        'parameters':{\n",
    "            'question':{\n",
    "                'type':'string',\n",
    "                'description':\"he question that couldn't be answered\"\n",
    "            },\n",
    "        },\n",
    "        'required': ['question'],\n",
    "        \"additionalProperties\":False\n",
    "\n",
    "    }\n",
    "\n",
    "\n",
    "\n",
    "}"
   ]
  },
  {
   "cell_type": "code",
   "execution_count": 109,
   "id": "cb075186",
   "metadata": {},
   "outputs": [],
   "source": [
    "tools = [{'type':\"function\", \"function\":record_user_details_json}, {'type':\"function\", \"function\":record_unknown_question_json}]"
   ]
  },
  {
   "cell_type": "code",
   "execution_count": 37,
   "id": "58c03d11",
   "metadata": {},
   "outputs": [
    {
     "data": {
      "text/plain": [
       "[{'type': 'function',\n",
       "  'function': {'name': 'record_user_details',\n",
       "   'description': 'use this tool to record user details',\n",
       "   'parameter': {'type': 'object',\n",
       "    'properties': {'email': {'type': 'string',\n",
       "      'description': 'The email address of this user'},\n",
       "     'name': {'type': 'string',\n",
       "      'description': \"The user's name, if they provided it\"},\n",
       "     'notes': {'type': 'string',\n",
       "      'description': \"Any additional information about the conversation that's worth recording to give context\"}},\n",
       "    'required': ['email'],\n",
       "    'additionalProperties': False}}},\n",
       " {'type': 'function',\n",
       "  'function': {'name': 'record_unknown_question',\n",
       "   'description': \"Always use this tool to record any question that couldn't be answered as you didn't know the answer\",\n",
       "   'parameter': {'type': 'object',\n",
       "    'parameters': {'question': {'type': 'string',\n",
       "      'description': \"he question that couldn't be answered\"}},\n",
       "    'required': ['question'],\n",
       "    'additionalProperties': False}}}]"
      ]
     },
     "execution_count": 37,
     "metadata": {},
     "output_type": "execute_result"
    }
   ],
   "source": [
    "tools"
   ]
  },
  {
   "cell_type": "code",
   "execution_count": 38,
   "id": "c159e680",
   "metadata": {},
   "outputs": [
    {
     "data": {
      "text/plain": [
       "{'type': 'function',\n",
       " 'function': {'name': 'record_user_details',\n",
       "  'description': 'use this tool to record user details',\n",
       "  'parameter': {'type': 'object',\n",
       "   'properties': {'email': {'type': 'string',\n",
       "     'description': 'The email address of this user'},\n",
       "    'name': {'type': 'string',\n",
       "     'description': \"The user's name, if they provided it\"},\n",
       "    'notes': {'type': 'string',\n",
       "     'description': \"Any additional information about the conversation that's worth recording to give context\"}},\n",
       "   'required': ['email'],\n",
       "   'additionalProperties': False}}}"
      ]
     },
     "execution_count": 38,
     "metadata": {},
     "output_type": "execute_result"
    }
   ],
   "source": [
    "tools[0]"
   ]
  },
  {
   "cell_type": "code",
   "execution_count": 110,
   "id": "02b3cd80",
   "metadata": {},
   "outputs": [],
   "source": [
    "# This function can take a list of tool calls, and run them. This is the IF statement!!\n",
    "\n",
    "\n",
    "def handle_tool_call(tool_calls):\n",
    "    results = []\n",
    "\n",
    "    for tool_call in tool_Calls:\n",
    "        tool_name  = tool_call.function.name\n",
    "        arguments = json.loads(tool_call.function.arguments)\n",
    "        print(f\"Tool called: {tool_name}\", flush=True)\n",
    "\n",
    "        if tool_name == \"record_user_details\":\n",
    "            results = record_user_details(**arguments)\n",
    "        elif tool_name == \"record_unknown_question\":\n",
    "            results = record_question(**arguments)\n",
    "        results.append({\"role\": \"tool\",\"content\": json.dumps(result),\"tool_call_id\": tool_call.id})\n",
    "        return results\n",
    "            "
   ]
  },
  {
   "cell_type": "code",
   "execution_count": 48,
   "id": "135d64f7",
   "metadata": {},
   "outputs": [
    {
     "data": {
      "text/plain": [
       "{'recorded': 'ok'}"
      ]
     },
     "execution_count": 48,
     "metadata": {},
     "output_type": "execute_result"
    }
   ],
   "source": [
    "globals()[\"record_unknown_question\"](\"this is a really hard question\")"
   ]
  },
  {
   "cell_type": "code",
   "execution_count": 111,
   "id": "32471062",
   "metadata": {},
   "outputs": [],
   "source": [
    "# This is a more elegant way that avoids the IF statement.\n",
    "\n",
    "def handle_tool_calls(tool_calls):\n",
    "    results = []\n",
    "    for tool_call in tool_calls:\n",
    "        tool_name = tool_call.function.name\n",
    "        arguments = json.loads(tool_call.function.arguments)\n",
    "        print(f\"Tool called: {tool_name}\", flush=True)\n",
    "        tool = globals().get(tool_name)\n",
    "        result = tool(**arguments) if tool else {}\n",
    "        results.append({\"role\": \"tool\",\"content\": json.dumps(result),\"tool_call_id\": tool_call.id})\n",
    "    return results"
   ]
  },
  {
   "cell_type": "code",
   "execution_count": 112,
   "id": "1aa0ff33",
   "metadata": {},
   "outputs": [],
   "source": [
    "reader = PdfReader(\"resume.pdf\") \n",
    "resume = \"\"\n",
    "for page in reader.pages:\n",
    "    text=page.extract_text()\n",
    "    if text:\n",
    "        resume+=text\n",
    "\n",
    "with open(\"summary.txt\", \"r\") as f:\n",
    "    summary = f.read()\n",
    "\n",
    "\n",
    "\n",
    "\n",
    "name = \"poorna praneesha\"\n"
   ]
  },
  {
   "cell_type": "code",
   "execution_count": 113,
   "id": "01ebfff1",
   "metadata": {},
   "outputs": [],
   "source": [
    "system_prompt = f\"You are acting as {name}. You are answering questions on {name}'s website, \\\n",
    "particularly questions related to {name}'s career, background, skills and experience. \\\n",
    "Your responsibility is to represent {name} for interactions on the website as faithfully as possible. \\\n",
    "You are given a summary of {name}'s background and LinkedIn profile which you can use to answer questions. \\\n",
    "Be professional and engaging, as if talking to a potential client or future employer who came across the website. \\\n",
    "If you don't know the answer to any question, use your record_unknown_question tool to record the question that you couldn't answer, even if it's about something trivial or unrelated to career. \\\n",
    "If the user is engaging in discussion, try to steer them towards getting in touch via email; ask for their email and record it using your record_user_details tool. \"\n",
    "\n",
    "system_prompt += f\"\\n\\n## Summary:\\n{summary}\\n\\n## LinkedIn Profile:\\n{resume}\\n\\n\"\n",
    "system_prompt += f\"With this context, please chat with the user, always staying in character as {name}.\"\n"
   ]
  },
  {
   "cell_type": "code",
   "execution_count": null,
   "id": "181e4902",
   "metadata": {},
   "outputs": [],
   "source": []
  },
  {
   "cell_type": "code",
   "execution_count": 114,
   "id": "a2c4efbc",
   "metadata": {},
   "outputs": [],
   "source": [
    "def chat(message, history):\n",
    "    history = [{\"role\": h[\"role\"], \"content\": h[\"content\"]} for h in history]\n",
    "\n",
    "    messages = [{'role':'system', 'content':system_prompt}] + history + [{'role':'user', 'content':message}]\n",
    "\n",
    "    done = False\n",
    "    while not done:\n",
    "\n",
    "        response = groq.chat.completions.create(model = \"llama-3.3-70b-versatile\", messages = messages, tools = tools)\n",
    "        print(response)\n",
    "        # finish_reason = response.choices[0].finish_reason\n",
    "        message = response.choices[0].message\n",
    "\n",
    "        # if finish_reason == \"tool_calls\":\n",
    "        if hasattr(message, \"tool_calls\") and message.tool_calls:\n",
    "            # message = response.choices[0].message\n",
    "            tools_calls = message.tool_calls\n",
    "            results = handle_tool_calls(tools_calls)\n",
    "            messages.append(message)\n",
    "            messages.extend(results)\n",
    "\n",
    "        else:\n",
    "            done = True\n",
    "    return message.content\n",
    "        \n",
    "        \n",
    "# ChatCompletion(id='chatcmpl-85fc8cb9-60c2-431c-9d0f-ca5da27baaab', choices=[Choice(finish_reason='stop', index=0, logprobs=None, message=ChatCompletionMessage(content=\"I'm doing well, thanks for asking. It's great to connect with you through my website. I hope you're finding the information about my background and experience in AI engineering helpful. Is there something specific you'd like to know or discuss? Perhaps we could talk about my work in deep learning, generative AI, or my experience as a Senior AI Engineer at Hivepath?\", role='assistant', executed_tools=None, function_call=None, reasoning=None, tool_calls=None))], created=1756784791, model='llama-3.3-70b-versatile', object='chat.completion', system_fingerprint='fp_6507bcfb6f', usage=CompletionUsage(completion_tokens=77, prompt_tokens=2019, total_tokens=2096, completion_time=0.221623106, prompt_time=0.16013308, queue_time=0.04814204, total_time=0.381756186), usage_breakdown=None, x_groq={'id': 'req_01k448h3q6f4krc2zjzr8zf44k'}, service_tier='on_demand')\n",
    "# Traceback (most recent call last):\n"
   ]
  },
  {
   "cell_type": "code",
   "execution_count": null,
   "id": "1919486b",
   "metadata": {},
   "outputs": [],
   "source": [
    "gr.ChatInterface(chat, type=\"messages\").launch()"
   ]
  },
  {
   "cell_type": "code",
   "execution_count": null,
   "id": "2fa1290f",
   "metadata": {},
   "outputs": [],
   "source": []
  }
 ],
 "metadata": {
  "kernelspec": {
   "display_name": ".venv",
   "language": "python",
   "name": "python3"
  },
  "language_info": {
   "codemirror_mode": {
    "name": "ipython",
    "version": 3
   },
   "file_extension": ".py",
   "mimetype": "text/x-python",
   "name": "python",
   "nbconvert_exporter": "python",
   "pygments_lexer": "ipython3",
   "version": "3.13.1"
  }
 },
 "nbformat": 4,
 "nbformat_minor": 5
}
