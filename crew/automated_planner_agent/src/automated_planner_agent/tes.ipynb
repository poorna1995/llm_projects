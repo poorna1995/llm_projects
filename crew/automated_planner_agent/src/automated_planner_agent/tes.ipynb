{
 "cells": [
  {
   "cell_type": "code",
   "execution_count": 3,
   "id": "dff20931",
   "metadata": {},
   "outputs": [
    {
     "name": "stdout",
     "output_type": "stream",
     "text": [
      "/Users/poorna/Desktop/llm_projects/projects/.venv/bin/python: No module named pip\n",
      "Note: you may need to restart the kernel to use updated packages.\n"
     ]
    }
   ],
   "source": [
    "pip install crewai\n"
   ]
  },
  {
   "cell_type": "code",
   "execution_count": null,
   "id": "61059698",
   "metadata": {},
   "outputs": [],
   "source": [
    "import pandas as pd\n",
    "from crew import AutomatedPlannerAgent\n",
    "from crewai import Agent, Crew, Process, Task\n",
    "from crewai.project import CrewBase, agent, crew, task\n",
    "from crewai.agents.agent_builder.base_agent import BaseAgent\n",
    "\n",
    "costs = 0.150 * (AutomatedPlannerAgent.usage_metrics.prompt_tokens + AutomatedPlannerAgent.usage_metrics.completion_tokens) / 1_000_000\n",
    "print(f\"Total costs: ${costs:.4f}\")\n",
    "\n",
    "# Convert UsageMetrics instance to a DataFrame\n",
    "df_usage_metrics = pd.DataFrame([AutomatedPlannerAgent.usage_metrics.dict()])\n",
    "df_usage_metrics "
   ]
  },
  {
   "cell_type": "code",
   "execution_count": null,
   "id": "a5d06384",
   "metadata": {},
   "outputs": [],
   "source": [
    "tasks = result.pydantic.dict()['tasks']\n",
    "df_tasks = pd.DataFrame(tasks)\n",
    "\n",
    "# Display the DataFrame as an HTML table\n",
    "df_tasks.style.set_table_attributes('border=\"1\"').set_caption(\"Task Details\").set_table_styles(\n",
    "    [{'selector': 'th, td', 'props': [('font-size', '120%')]}]\n",
    ")"
   ]
  },
  {
   "cell_type": "code",
   "execution_count": null,
   "id": "e038c134",
   "metadata": {},
   "outputs": [],
   "source": [
    "milestones = result.pydantic.dict()['milestones']\n",
    "df_milestones = pd.DataFrame(milestones)\n",
    "\n",
    "# Display the DataFrame as an HTML table\n",
    "df_milestones.style.set_table_attributes('border=\"1\"').set_caption(\"Task Details\").set_table_styles(\n",
    "    [{'selector': 'th, td', 'props': [('font-size', '120%')]}]\n",
    ")"
   ]
  }
 ],
 "metadata": {
  "kernelspec": {
   "display_name": ".venv",
   "language": "python",
   "name": "python3"
  },
  "language_info": {
   "codemirror_mode": {
    "name": "ipython",
    "version": 3
   },
   "file_extension": ".py",
   "mimetype": "text/x-python",
   "name": "python",
   "nbconvert_exporter": "python",
   "pygments_lexer": "ipython3",
   "version": "3.13.1"
  }
 },
 "nbformat": 4,
 "nbformat_minor": 5
}
