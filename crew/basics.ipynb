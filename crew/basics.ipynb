{
 "cells": [
  {
   "cell_type": "markdown",
   "id": "c52a8ab3",
   "metadata": {},
   "source": [
    "Most of the sales, marketing and research will gp through some of this research, analysis, suary, reporting\n",
    "\n"
   ]
  }
 ],
 "metadata": {
  "language_info": {
   "name": "python"
  }
 },
 "nbformat": 4,
 "nbformat_minor": 5
}
