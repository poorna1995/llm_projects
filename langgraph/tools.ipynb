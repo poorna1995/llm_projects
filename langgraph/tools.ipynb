{
 "cells": [
  {
   "cell_type": "code",
   "execution_count": 4,
   "id": "9e4fec18",
   "metadata": {},
   "outputs": [],
   "source": [
    "from typing import Annotated\n",
    "from langgraph.graph import StateGraph, START\n",
    "from langgraph.graph.message import add_messages\n",
    "from dotenv import load_dotenv\n",
    "from IPython.display import Image, display\n",
    "import gradio as gr\n",
    "from langgraph.prebuilt import ToolNode, tools_condition\n",
    "import requests\n",
    "import os\n",
    "from langchain_openai import ChatOpenAI\n",
    "from typing import TypedDict\n"
   ]
  },
  {
   "cell_type": "code",
   "execution_count": 5,
   "id": "ad2ed631",
   "metadata": {},
   "outputs": [
    {
     "data": {
      "text/plain": [
       "True"
      ]
     },
     "execution_count": 5,
     "metadata": {},
     "output_type": "execute_result"
    }
   ],
   "source": [
    "load_dotenv(override = True)"
   ]
  },
  {
   "cell_type": "code",
   "execution_count": 6,
   "id": "4d64c906",
   "metadata": {},
   "outputs": [],
   "source": [
    "# need a agent to look the text\n",
    "# based on the best the agents decide which tools needs to be user and routed to that tool ( which does action)\n",
    "# once the find the relevant tool it calls the tool\n",
    "# generate the reponse whih will be redirected to the agent again to take decicion that it provided the right answer"
   ]
  },
  {
   "cell_type": "code",
   "execution_count": 11,
   "id": "d791bf7b",
   "metadata": {},
   "outputs": [],
   "source": [
    "# \n"
   ]
  },
  {
   "cell_type": "code",
   "execution_count": 12,
   "id": "b24a155f",
   "metadata": {},
   "outputs": [],
   "source": [
    "#custom the tools\n",
    "\n",
    "pushover_user = os.getenv('PUSHOVER_USER')\n",
    "pushover_token = os.getenv('PUSHOVER_TOKEN')\n",
    "pushover_url = os.getenv('PUSHOVER_URL')\n",
    "\n",
    "\n",
    "def push_notification(text:str)->str:\n",
    "    payload = {\"token\":pushover_token, \"user\":pushover_user, \"message\":text }\n",
    "    requests.post(pushover_url, data= payload)"
   ]
  },
  {
   "cell_type": "code",
   "execution_count": 13,
   "id": "f1cdf188",
   "metadata": {},
   "outputs": [],
   "source": [
    "# defint the tool\n",
    "from langchain.agents import Tool\n",
    "\n",
    "push_tool = Tool(\n",
    "    name = \"push_notification\",\n",
    "    func = push_notification,\n",
    "    description = \"send the push notification to the user using the pushover\"\n",
    ")"
   ]
  },
  {
   "cell_type": "code",
   "execution_count": 14,
   "id": "2ac9fb61",
   "metadata": {},
   "outputs": [],
   "source": [
    "from langchain_community.utilities import GoogleSerperAPIWrapper\n",
    "search = GoogleSerperAPIWrapper() "
   ]
  },
  {
   "cell_type": "code",
   "execution_count": 15,
   "id": "2d7bbb6b",
   "metadata": {},
   "outputs": [],
   "source": [
    "search_tool = Tool(\n",
    "    name = 'search the information from google',\n",
    "    func = search.run,\n",
    "    description =\"search the content/information given by the user input from the google\"\n",
    ")"
   ]
  },
  {
   "cell_type": "markdown",
   "id": "91089015",
   "metadata": {},
   "source": []
  },
  {
   "cell_type": "code",
   "execution_count": 16,
   "id": "9992056c",
   "metadata": {},
   "outputs": [],
   "source": [
    "tools = [push_tool, search_tool]"
   ]
  },
  {
   "cell_type": "code",
   "execution_count": 17,
   "id": "e3be4310",
   "metadata": {},
   "outputs": [],
   "source": [
    "class State(TypedDict):\n",
    "    messages : Annotated[list, add_messages]\n",
    "\n",
    "\n",
    "# state keeps a list of messages\n",
    "# langagraph willk append new messages instead of overridinf them\n",
    "\n",
    "\n",
    "# messages = ['hello','how are you doing',\"i am doing great\"]"
   ]
  },
  {
   "cell_type": "code",
   "execution_count": 18,
   "id": "95d7b2c5",
   "metadata": {},
   "outputs": [],
   "source": [
    "graph_builder = StateGraph(State)"
   ]
  },
  {
   "cell_type": "code",
   "execution_count": 26,
   "id": "dc0a4a2f",
   "metadata": {},
   "outputs": [],
   "source": [
    "llm = ChatOpenAI(model = 'gpt-4o-mini')\n",
    "llm_with_tools = llm.bind_tools(tools)"
   ]
  },
  {
   "cell_type": "code",
   "execution_count": 27,
   "id": "4c731b0b",
   "metadata": {},
   "outputs": [
    {
     "data": {
      "text/plain": [
       "RunnableBinding(bound=ChatOpenAI(client=<openai.resources.chat.completions.completions.Completions object at 0x147ecac10>, async_client=<openai.resources.chat.completions.completions.AsyncCompletions object at 0x147f279d0>, root_client=<openai.OpenAI object at 0x147a20190>, root_async_client=<openai.AsyncOpenAI object at 0x147ec8a50>, model_name='gpt-4o-mini', model_kwargs={}, openai_api_key=SecretStr('**********')), kwargs={'tools': [{'type': 'function', 'function': {'name': 'push_notification', 'description': 'send the push notification to the user using the pushover', 'parameters': {'properties': {'__arg1': {'title': '__arg1', 'type': 'string'}}, 'required': ['__arg1'], 'type': 'object'}}}, {'type': 'function', 'function': {'name': 'search the information from google', 'description': 'search the content/information given by the user input from the google', 'parameters': {'properties': {'__arg1': {'title': '__arg1', 'type': 'string'}}, 'required': ['__arg1'], 'type': 'object'}}}]}, config={}, config_factories=[])"
      ]
     },
     "execution_count": 27,
     "metadata": {},
     "output_type": "execute_result"
    }
   ],
   "source": [
    "llm_with_tools"
   ]
  },
  {
   "cell_type": "code",
   "execution_count": 21,
   "id": "4b4a693d",
   "metadata": {},
   "outputs": [
    {
     "data": {
      "text/plain": [
       "<langgraph.graph.state.StateGraph at 0x146d0da90>"
      ]
     },
     "execution_count": 21,
     "metadata": {},
     "output_type": "execute_result"
    }
   ],
   "source": [
    "# create a node\n",
    "\n",
    "def chatbot(state:State):\n",
    "    return {\"messages\": [llm_with_tools.invoke(state[\"messages\"])]}\n",
    "\n",
    "    \n",
    "\n",
    "graph_builder.add_node('chatbot', chatbot)\n",
    "graph_builder.add_node('tools', ToolNode(tools =tools))"
   ]
  },
  {
   "cell_type": "code",
   "execution_count": 22,
   "id": "6648eea7",
   "metadata": {},
   "outputs": [
    {
     "data": {
      "text/plain": [
       "<langgraph.graph.state.StateGraph at 0x146d0da90>"
      ]
     },
     "execution_count": 22,
     "metadata": {},
     "output_type": "execute_result"
    }
   ],
   "source": [
    "# create edges\n",
    "\n",
    "graph_builder.add_conditional_edges(\"chatbot\",tools_condition,\"tools\")\n",
    "\n",
    "graph_builder.add_edge(\"tools\", \"chatbot\")\n",
    "graph_builder.add_edge(START,\"chatbot\")\n",
    "\n"
   ]
  },
  {
   "cell_type": "code",
   "execution_count": 23,
   "id": "52f8e3af",
   "metadata": {},
   "outputs": [
    {
     "data": {
      "image/png": "[encoded data removed]",
      "text/plain": [
       "<IPython.core.display.Image object>"
      ]
     },
     "metadata": {},
     "output_type": "display_data"
    }
   ],
   "source": [
    "graph = graph_builder.compile()\n",
    "display(Image(graph.get_graph().draw_mermaid_png()))"
   ]
  },
  {
   "cell_type": "code",
   "execution_count": 24,
   "id": "b7d3843f",
   "metadata": {},
   "outputs": [],
   "source": [
    "def chat(user_input:str,history):\n",
    "    result = graph.invoke({\"messages\": [{'role':'user','content':user_input}]})\n",
    "    return result['messages'][-1].content"
   ]
  },
  {
   "cell_type": "code",
   "execution_count": null,
   "id": "0f55f9d5",
   "metadata": {},
   "outputs": [],
   "source": [
    "gr.ChatInterface(chat, type=\"messages\").launch()"
   ]
  },
  {
   "cell_type": "code",
   "execution_count": 28,
   "id": "fca017c3",
   "metadata": {},
   "outputs": [],
   "source": [
    "from langgraph.checkpoint.memory import MemorySaver\n",
    "memory = MemorySaver()"
   ]
  },
  {
   "cell_type": "code",
   "execution_count": 29,
   "id": "f62d562a",
   "metadata": {},
   "outputs": [],
   "source": [
    "### sacing the in memory"
   ]
  },
  {
   "cell_type": "code",
   "execution_count": 30,
   "id": "769b16a2",
   "metadata": {},
   "outputs": [],
   "source": [
    "config = {\"configurable\":{\"thread_id\" :'1'}}"
   ]
  },
  {
   "cell_type": "code",
   "execution_count": 31,
   "id": "9977fe35",
   "metadata": {},
   "outputs": [
    {
     "data": {
      "text/plain": [
       "{'configurable': {'thread_id': '1'}}"
      ]
     },
     "execution_count": 31,
     "metadata": {},
     "output_type": "execute_result"
    }
   ],
   "source": [
    "config"
   ]
  },
  {
   "cell_type": "code",
   "execution_count": 32,
   "id": "52bde3d8",
   "metadata": {},
   "outputs": [],
   "source": [
    "def chat(user_input:str,history):\n",
    "    result = graph.invoke({'messages':[{'role':'user','content':user_input}]},config = config)\n",
    "    return result['messages'][-1].content"
   ]
  },
  {
   "cell_type": "code",
   "execution_count": 33,
   "id": "8b28bf26",
   "metadata": {},
   "outputs": [
    {
     "name": "stdout",
     "output_type": "stream",
     "text": [
      "* Running on local URL:  http://127.0.0.1:7866\n",
      "* To create a public link, set `share=True` in `launch()`.\n"
     ]
    },
    {
     "data": {
      "text/html": [
       "<div><iframe src=\"http://127.0.0.1:7866/\" width=\"100%\" height=\"500\" allow=\"autoplay; camera; microphone; clipboard-read; clipboard-write;\" frameborder=\"0\" allowfullscreen></iframe></div>"
      ],
      "text/plain": [
       "<IPython.core.display.HTML object>"
      ]
     },
     "metadata": {},
     "output_type": "display_data"
    },
    {
     "data": {
      "text/plain": []
     },
     "execution_count": 33,
     "metadata": {},
     "output_type": "execute_result"
    },
    {
     "name": "stderr",
     "output_type": "stream",
     "text": [
      "Traceback (most recent call last):\n",
      "  File \"/Users/poorna/Desktop/llm_projects/projects/.venv/lib/python3.13/site-packages/gradio/queueing.py\", line 667, in process_events\n",
      "    response = await route_utils.call_process_api(\n",
      "               ^^^^^^^^^^^^^^^^^^^^^^^^^^^^^^^^^^^\n",
      "    ...<5 lines>...\n",
      "    )\n",
      "    ^\n",
      "  File \"/Users/poorna/Desktop/llm_projects/projects/.venv/lib/python3.13/site-packages/gradio/route_utils.py\", line 349, in call_process_api\n",
      "    output = await app.get_blocks().process_api(\n",
      "             ^^^^^^^^^^^^^^^^^^^^^^^^^^^^^^^^^^^\n",
      "    ...<11 lines>...\n",
      "    )\n",
      "    ^\n",
      "  File \"/Users/poorna/Desktop/llm_projects/projects/.venv/lib/python3.13/site-packages/gradio/blocks.py\", line 2274, in process_api\n",
      "    result = await self.call_function(\n",
      "             ^^^^^^^^^^^^^^^^^^^^^^^^^\n",
      "    ...<8 lines>...\n",
      "    )\n",
      "    ^\n",
      "  File \"/Users/poorna/Desktop/llm_projects/projects/.venv/lib/python3.13/site-packages/gradio/blocks.py\", line 1779, in call_function\n",
      "    prediction = await fn(*processed_input)\n",
      "                 ^^^^^^^^^^^^^^^^^^^^^^^^^^\n",
      "  File \"/Users/poorna/Desktop/llm_projects/projects/.venv/lib/python3.13/site-packages/gradio/utils.py\", line 882, in async_wrapper\n",
      "    response = await f(*args, **kwargs)\n",
      "               ^^^^^^^^^^^^^^^^^^^^^^^^\n",
      "  File \"/Users/poorna/Desktop/llm_projects/projects/.venv/lib/python3.13/site-packages/gradio/chat_interface.py\", line 551, in __wrapper\n",
      "    return await submit_fn(*args, **kwargs)\n",
      "           ^^^^^^^^^^^^^^^^^^^^^^^^^^^^^^^^\n",
      "  File \"/Users/poorna/Desktop/llm_projects/projects/.venv/lib/python3.13/site-packages/gradio/chat_interface.py\", line 925, in _submit_fn\n",
      "    response = await anyio.to_thread.run_sync(\n",
      "               ^^^^^^^^^^^^^^^^^^^^^^^^^^^^^^^\n",
      "        self.fn, *inputs, limiter=self.limiter\n",
      "        ^^^^^^^^^^^^^^^^^^^^^^^^^^^^^^^^^^^^^^\n",
      "    )\n",
      "    ^\n",
      "  File \"/Users/poorna/Desktop/llm_projects/projects/.venv/lib/python3.13/site-packages/anyio/to_thread.py\", line 56, in run_sync\n",
      "    return await get_async_backend().run_sync_in_worker_thread(\n",
      "           ^^^^^^^^^^^^^^^^^^^^^^^^^^^^^^^^^^^^^^^^^^^^^^^^^^^^\n",
      "        func, args, abandon_on_cancel=abandon_on_cancel, limiter=limiter\n",
      "        ^^^^^^^^^^^^^^^^^^^^^^^^^^^^^^^^^^^^^^^^^^^^^^^^^^^^^^^^^^^^^^^^\n",
      "    )\n",
      "    ^\n",
      "  File \"/Users/poorna/Desktop/llm_projects/projects/.venv/lib/python3.13/site-packages/anyio/_backends/_asyncio.py\", line 2476, in run_sync_in_worker_thread\n",
      "    return await future\n",
      "           ^^^^^^^^^^^^\n",
      "  File \"/Users/poorna/Desktop/llm_projects/projects/.venv/lib/python3.13/site-packages/anyio/_backends/_asyncio.py\", line 967, in run\n",
      "    result = context.run(func, *args)\n",
      "  File \"/var/folders/gs/h8mf896s1xg8g6h294c83l2m0000gq/T/ipykernel_66684/2504292839.py\", line 2, in chat\n",
      "    result = graph.invoke({'messages':[{'role':'user','content':user_input}]},config = config)\n",
      "  File \"/Users/poorna/Desktop/llm_projects/projects/.venv/lib/python3.13/site-packages/langgraph/pregel/main.py\", line 3026, in invoke\n",
      "    for chunk in self.stream(\n",
      "                 ~~~~~~~~~~~^\n",
      "        input,\n",
      "        ^^^^^^\n",
      "    ...<10 lines>...\n",
      "        **kwargs,\n",
      "        ^^^^^^^^^\n",
      "    ):\n",
      "    ^\n",
      "  File \"/Users/poorna/Desktop/llm_projects/projects/.venv/lib/python3.13/site-packages/langgraph/pregel/main.py\", line 2647, in stream\n",
      "    for _ in runner.tick(\n",
      "             ~~~~~~~~~~~^\n",
      "        [t for t in loop.tasks.values() if not t.writes],\n",
      "        ^^^^^^^^^^^^^^^^^^^^^^^^^^^^^^^^^^^^^^^^^^^^^^^^^\n",
      "    ...<2 lines>...\n",
      "        schedule_task=loop.accept_push,\n",
      "        ^^^^^^^^^^^^^^^^^^^^^^^^^^^^^^^\n",
      "    ):\n",
      "    ^\n",
      "  File \"/Users/poorna/Desktop/llm_projects/projects/.venv/lib/python3.13/site-packages/langgraph/pregel/_runner.py\", line 162, in tick\n",
      "    run_with_retry(\n",
      "    ~~~~~~~~~~~~~~^\n",
      "        t,\n",
      "        ^^\n",
      "    ...<10 lines>...\n",
      "        },\n",
      "        ^^\n",
      "    )\n",
      "    ^\n",
      "  File \"/Users/poorna/Desktop/llm_projects/projects/.venv/lib/python3.13/site-packages/langgraph/pregel/_retry.py\", line 42, in run_with_retry\n",
      "    return task.proc.invoke(task.input, config)\n",
      "           ~~~~~~~~~~~~~~~~^^^^^^^^^^^^^^^^^^^^\n",
      "  File \"/Users/poorna/Desktop/llm_projects/projects/.venv/lib/python3.13/site-packages/langgraph/_internal/_runnable.py\", line 657, in invoke\n",
      "    input = context.run(step.invoke, input, config, **kwargs)\n",
      "  File \"/Users/poorna/Desktop/llm_projects/projects/.venv/lib/python3.13/site-packages/langgraph/_internal/_runnable.py\", line 401, in invoke\n",
      "    ret = self.func(*args, **kwargs)\n",
      "  File \"/var/folders/gs/h8mf896s1xg8g6h294c83l2m0000gq/T/ipykernel_66684/2805897822.py\", line 4, in chatbot\n",
      "    return {\"messages\": [llm_with_tools.invoke(state[\"messages\"])]}\n",
      "                         ~~~~~~~~~~~~~~~~~~~~~^^^^^^^^^^^^^^^^^^^\n",
      "  File \"/Users/poorna/Desktop/llm_projects/projects/.venv/lib/python3.13/site-packages/langchain_core/runnables/base.py\", line 5495, in invoke\n",
      "    return self.bound.invoke(\n",
      "           ~~~~~~~~~~~~~~~~~^\n",
      "        input,\n",
      "        ^^^^^^\n",
      "        self._merge_configs(config),\n",
      "        ^^^^^^^^^^^^^^^^^^^^^^^^^^^^\n",
      "        **{**self.kwargs, **kwargs},\n",
      "        ^^^^^^^^^^^^^^^^^^^^^^^^^^^^\n",
      "    )\n",
      "    ^\n",
      "  File \"/Users/poorna/Desktop/llm_projects/projects/.venv/lib/python3.13/site-packages/langchain_core/language_models/chat_models.py\", line 393, in invoke\n",
      "    self.generate_prompt(\n",
      "    ~~~~~~~~~~~~~~~~~~~~^\n",
      "        [self._convert_input(input)],\n",
      "        ^^^^^^^^^^^^^^^^^^^^^^^^^^^^^\n",
      "    ...<6 lines>...\n",
      "        **kwargs,\n",
      "        ^^^^^^^^^\n",
      "    ).generations[0][0],\n",
      "    ^\n",
      "  File \"/Users/poorna/Desktop/llm_projects/projects/.venv/lib/python3.13/site-packages/langchain_core/language_models/chat_models.py\", line 1019, in generate_prompt\n",
      "    return self.generate(prompt_messages, stop=stop, callbacks=callbacks, **kwargs)\n",
      "           ~~~~~~~~~~~~~^^^^^^^^^^^^^^^^^^^^^^^^^^^^^^^^^^^^^^^^^^^^^^^^^^^^^^^^^^^\n",
      "  File \"/Users/poorna/Desktop/llm_projects/projects/.venv/lib/python3.13/site-packages/langchain_core/language_models/chat_models.py\", line 837, in generate\n",
      "    self._generate_with_cache(\n",
      "    ~~~~~~~~~~~~~~~~~~~~~~~~~^\n",
      "        m,\n",
      "        ^^\n",
      "    ...<2 lines>...\n",
      "        **kwargs,\n",
      "        ^^^^^^^^^\n",
      "    )\n",
      "    ^\n",
      "  File \"/Users/poorna/Desktop/llm_projects/projects/.venv/lib/python3.13/site-packages/langchain_core/language_models/chat_models.py\", line 1085, in _generate_with_cache\n",
      "    result = self._generate(\n",
      "        messages, stop=stop, run_manager=run_manager, **kwargs\n",
      "    )\n",
      "  File \"/Users/poorna/Desktop/llm_projects/projects/.venv/lib/python3.13/site-packages/langchain_openai/chat_models/base.py\", line 1183, in _generate\n",
      "    raise e\n",
      "  File \"/Users/poorna/Desktop/llm_projects/projects/.venv/lib/python3.13/site-packages/langchain_openai/chat_models/base.py\", line 1178, in _generate\n",
      "    raw_response = self.client.with_raw_response.create(**payload)\n",
      "  File \"/Users/poorna/Desktop/llm_projects/projects/.venv/lib/python3.13/site-packages/openai/_legacy_response.py\", line 364, in wrapped\n",
      "    return cast(LegacyAPIResponse[R], func(*args, **kwargs))\n",
      "                                      ~~~~^^^^^^^^^^^^^^^^^\n",
      "  File \"/Users/poorna/Desktop/llm_projects/projects/.venv/lib/python3.13/site-packages/openai/_utils/_utils.py\", line 287, in wrapper\n",
      "    return func(*args, **kwargs)\n",
      "  File \"/Users/poorna/Desktop/llm_projects/projects/.venv/lib/python3.13/site-packages/openai/resources/chat/completions/completions.py\", line 1147, in create\n",
      "    return self._post(\n",
      "           ~~~~~~~~~~^\n",
      "        \"/chat/completions\",\n",
      "        ^^^^^^^^^^^^^^^^^^^^\n",
      "    ...<46 lines>...\n",
      "        stream_cls=Stream[ChatCompletionChunk],\n",
      "        ^^^^^^^^^^^^^^^^^^^^^^^^^^^^^^^^^^^^^^^\n",
      "    )\n",
      "    ^\n",
      "  File \"/Users/poorna/Desktop/llm_projects/projects/.venv/lib/python3.13/site-packages/openai/_base_client.py\", line 1259, in post\n",
      "    return cast(ResponseT, self.request(cast_to, opts, stream=stream, stream_cls=stream_cls))\n",
      "                           ~~~~~~~~~~~~^^^^^^^^^^^^^^^^^^^^^^^^^^^^^^^^^^^^^^^^^^^^^^^^^^^^^\n",
      "  File \"/Users/poorna/Desktop/llm_projects/projects/.venv/lib/python3.13/site-packages/openai/_base_client.py\", line 1047, in request\n",
      "    raise self._make_status_error_from_response(err.response) from None\n",
      "openai.BadRequestError: Error code: 400 - {'error': {'message': \"Invalid 'tools[1].function.name': string does not match pattern. Expected a string that matches the pattern '^[a-zA-Z0-9_-]+$'.\", 'type': 'invalid_request_error', 'param': 'tools[1].function.name', 'code': 'invalid_value'}}\n",
      "During task with name 'chatbot' and id 'bb4dbf6f-f9bf-3eb5-e501-787705432fcd'\n"
     ]
    }
   ],
   "source": [
    "gr.ChatInterface(chat, type=\"messages\").launch()"
   ]
  },
  {
   "cell_type": "code",
   "execution_count": 34,
   "id": "23d2013a",
   "metadata": {},
   "outputs": [
    {
     "data": {
      "text/plain": [
       "Graph(nodes={'__start__': Node(id='__start__', name='__start__', data=RunnableCallable(tags=None, recurse=True, explode_args=False, func_accepts={}), metadata=None), 'chatbot': Node(id='chatbot', name='chatbot', data=chatbot(tags=None, recurse=True, explode_args=False, func_accepts={}), metadata=None), 'tools': Node(id='tools', name='tools', data=tools(tags=None, recurse=True, explode_args=False, func_accepts={'config': ('N/A', <class 'inspect._empty'>), 'store': ('store', None)}, tools_by_name={'push_notification': Tool(name='push_notification', description='send the push notification to the user using the pushover', func=<function push_notification at 0x14720f420>), 'search the information from google': Tool(name='search the information from google', description='search the content/information given by the user input from the google', func=<bound method GoogleSerperAPIWrapper.run of GoogleSerperAPIWrapper(k=10, gl='us', hl='en', type='search', result_key_for_type={'news': 'news', 'places': 'places', 'images': 'images', 'search': 'organic'}, tbs=None, serper_api_key='e3786f68824c4d8d320da9c98e016b9f36b528ba3eb0546dd09846ce32cc2bad', aiosession=None)>)}, tool_to_state_args={'push_notification': {}, 'search the information from google': {}}, tool_to_store_arg={'push_notification': None, 'search the information from google': None}, handle_tool_errors=True, messages_key='messages'), metadata=None), '__end__': Node(id='__end__', name='__end__', data=None, metadata=None)}, edges=[Edge(source='__start__', target='chatbot', data=None, conditional=False), Edge(source='chatbot', target='__end__', data=None, conditional=True), Edge(source='chatbot', target='tools', data=None, conditional=True), Edge(source='tools', target='chatbot', data=None, conditional=False)])"
      ]
     },
     "execution_count": 34,
     "metadata": {},
     "output_type": "execute_result"
    }
   ],
   "source": [
    "graph.get_graph(config)"
   ]
  },
  {
   "cell_type": "code",
   "execution_count": 35,
   "id": "23829c05",
   "metadata": {},
   "outputs": [
    {
     "ename": "ValueError",
     "evalue": "No checkpointer set",
     "output_type": "error",
     "traceback": [
      "\u001b[31m---------------------------------------------------------------------------\u001b[39m",
      "\u001b[31mValueError\u001b[39m                                Traceback (most recent call last)",
      "\u001b[36mCell\u001b[39m\u001b[36m \u001b[39m\u001b[32mIn[35]\u001b[39m\u001b[32m, line 1\u001b[39m\n\u001b[32m----> \u001b[39m\u001b[32m1\u001b[39m \u001b[38;5;28;43mlist\u001b[39;49m\u001b[43m(\u001b[49m\u001b[43mgraph\u001b[49m\u001b[43m.\u001b[49m\u001b[43mget_state_history\u001b[49m\u001b[43m(\u001b[49m\u001b[43mconfig\u001b[49m\u001b[43m)\u001b[49m\u001b[43m)\u001b[49m\n",
      "\u001b[36mFile \u001b[39m\u001b[32m~/Desktop/llm_projects/projects/.venv/lib/python3.13/site-packages/langgraph/pregel/main.py:1313\u001b[39m, in \u001b[36mPregel.get_state_history\u001b[39m\u001b[34m(self, config, filter, before, limit)\u001b[39m\n\u001b[32m   1309\u001b[39m checkpointer: BaseCheckpointSaver | \u001b[38;5;28;01mNone\u001b[39;00m = config[CONF].get(\n\u001b[32m   1310\u001b[39m     CONFIG_KEY_CHECKPOINTER, \u001b[38;5;28mself\u001b[39m.checkpointer\n\u001b[32m   1311\u001b[39m )\n\u001b[32m   1312\u001b[39m \u001b[38;5;28;01mif\u001b[39;00m \u001b[38;5;129;01mnot\u001b[39;00m checkpointer:\n\u001b[32m-> \u001b[39m\u001b[32m1313\u001b[39m     \u001b[38;5;28;01mraise\u001b[39;00m \u001b[38;5;167;01mValueError\u001b[39;00m(\u001b[33m\"\u001b[39m\u001b[33mNo checkpointer set\u001b[39m\u001b[33m\"\u001b[39m)\n\u001b[32m   1315\u001b[39m \u001b[38;5;28;01mif\u001b[39;00m (\n\u001b[32m   1316\u001b[39m     checkpoint_ns := config[CONF].get(CONFIG_KEY_CHECKPOINT_NS, \u001b[33m\"\u001b[39m\u001b[33m\"\u001b[39m)\n\u001b[32m   1317\u001b[39m ) \u001b[38;5;129;01mand\u001b[39;00m CONFIG_KEY_CHECKPOINTER \u001b[38;5;129;01mnot\u001b[39;00m \u001b[38;5;129;01min\u001b[39;00m config[CONF]:\n\u001b[32m   1318\u001b[39m     \u001b[38;5;66;03m# remove task_ids from checkpoint_ns\u001b[39;00m\n\u001b[32m   1319\u001b[39m     recast = recast_checkpoint_ns(checkpoint_ns)\n",
      "\u001b[31mValueError\u001b[39m: No checkpointer set"
     ]
    }
   ],
   "source": [
    "list(graph.get_state_history(config))"
   ]
  },
  {
   "cell_type": "code",
   "execution_count": 36,
   "id": "20970383",
   "metadata": {},
   "outputs": [],
   "source": [
    "import sqlite3\n",
    "from langgraph.checkpoint.sqlite import SqliteSaver\n",
    "\n",
    "db_path = \"memory.db\"\n",
    "conn = sqlite3.connect (db_path, check_same_thread= False)\n",
    "sql_memory = SqliteSaver(conn)"
   ]
  },
  {
   "cell_type": "code",
   "execution_count": 47,
   "id": "fd9533dc",
   "metadata": {},
   "outputs": [
    {
     "data": {
      "image/png": "[encoded data removed]",
      "text/plain": [
       "<IPython.core.display.Image object>"
      ]
     },
     "metadata": {},
     "output_type": "display_data"
    }
   ],
   "source": [
    "graph_builder = StateGraph(State)\n",
    "\n",
    "# define an agent\n",
    "llm = ChatOpenAI(model = 'gpt-4o-mini')\n",
    "llm_with_tools = llm.bind_tools(tools)\n",
    "\n",
    "# \n",
    "def chatbot(state:State):\n",
    "    print(state)\n",
    "    return {'messages':[llm_with_tools.invoke(state['messages'])]}\n",
    "\n",
    "tool_node = ToolNode(tools)\n",
    "\n",
    "# build the node\n",
    "graph_builder.add_node('chatbot',chatbot)\n",
    "graph_builder.add_node('tools',tool_node)\n",
    "\n",
    "\n",
    "\n",
    "# build the edges\n",
    "\n",
    "graph_builder.add_conditional_edges('chatbot', tools_condition,'tools')\n",
    "\n",
    "graph_builder.add_edge('tools', 'chatbot')\n",
    "graph_builder.add_edge(START,'chatbot')\n",
    "\n",
    "\n",
    "#step 5\n",
    "graph=graph_builder.compile(checkpointer=sql_memory)\n",
    "display(Image(graph.get_graph().draw_mermaid_png()))\n",
    "\n",
    "\n",
    "\n",
    "config = {\"configurable\": {\"thread_id\": \"3\"}}\n",
    "\n",
    "# config = {'configuration': {\"thread_id\": '3'}}\n",
    "# \n",
    "\n",
    "def chat(user_input:str,history):\n",
    "    result = graph.invoke({'messages':[{'role':'user','content':user_input}]},config = config)\n",
    "    return result['messages'][-1].content"
   ]
  },
  {
   "cell_type": "code",
   "execution_count": 48,
   "id": "1d796ebb",
   "metadata": {},
   "outputs": [
    {
     "name": "stdout",
     "output_type": "stream",
     "text": [
      "{'configurable': {'thread_id': '3'}}\n"
     ]
    }
   ],
   "source": [
    "print(config)"
   ]
  },
  {
   "cell_type": "code",
   "execution_count": 49,
   "id": "bcaf8282",
   "metadata": {},
   "outputs": [
    {
     "name": "stdout",
     "output_type": "stream",
     "text": [
      "* Running on local URL:  http://127.0.0.1:7870\n",
      "* To create a public link, set `share=True` in `launch()`.\n"
     ]
    },
    {
     "data": {
      "text/html": [
       "<div><iframe src=\"http://127.0.0.1:7870/\" width=\"100%\" height=\"500\" allow=\"autoplay; camera; microphone; clipboard-read; clipboard-write;\" frameborder=\"0\" allowfullscreen></iframe></div>"
      ],
      "text/plain": [
       "<IPython.core.display.HTML object>"
      ]
     },
     "metadata": {},
     "output_type": "display_data"
    },
    {
     "data": {
      "text/plain": []
     },
     "execution_count": 49,
     "metadata": {},
     "output_type": "execute_result"
    },
    {
     "name": "stdout",
     "output_type": "stream",
     "text": [
      "{'messages': [HumanMessage(content='hello\\n', additional_kwargs={}, response_metadata={}, id='48be67d5-c71b-4ff8-98c0-375a3f5a8417')]}\n"
     ]
    },
    {
     "name": "stderr",
     "output_type": "stream",
     "text": [
      "Traceback (most recent call last):\n",
      "  File \"/Users/poorna/Desktop/llm_projects/projects/.venv/lib/python3.13/site-packages/gradio/queueing.py\", line 667, in process_events\n",
      "    response = await route_utils.call_process_api(\n",
      "               ^^^^^^^^^^^^^^^^^^^^^^^^^^^^^^^^^^^\n",
      "    ...<5 lines>...\n",
      "    )\n",
      "    ^\n",
      "  File \"/Users/poorna/Desktop/llm_projects/projects/.venv/lib/python3.13/site-packages/gradio/route_utils.py\", line 349, in call_process_api\n",
      "    output = await app.get_blocks().process_api(\n",
      "             ^^^^^^^^^^^^^^^^^^^^^^^^^^^^^^^^^^^\n",
      "    ...<11 lines>...\n",
      "    )\n",
      "    ^\n",
      "  File \"/Users/poorna/Desktop/llm_projects/projects/.venv/lib/python3.13/site-packages/gradio/blocks.py\", line 2274, in process_api\n",
      "    result = await self.call_function(\n",
      "             ^^^^^^^^^^^^^^^^^^^^^^^^^\n",
      "    ...<8 lines>...\n",
      "    )\n",
      "    ^\n",
      "  File \"/Users/poorna/Desktop/llm_projects/projects/.venv/lib/python3.13/site-packages/gradio/blocks.py\", line 1779, in call_function\n",
      "    prediction = await fn(*processed_input)\n",
      "                 ^^^^^^^^^^^^^^^^^^^^^^^^^^\n",
      "  File \"/Users/poorna/Desktop/llm_projects/projects/.venv/lib/python3.13/site-packages/gradio/utils.py\", line 882, in async_wrapper\n",
      "    response = await f(*args, **kwargs)\n",
      "               ^^^^^^^^^^^^^^^^^^^^^^^^\n",
      "  File \"/Users/poorna/Desktop/llm_projects/projects/.venv/lib/python3.13/site-packages/gradio/chat_interface.py\", line 551, in __wrapper\n",
      "    return await submit_fn(*args, **kwargs)\n",
      "           ^^^^^^^^^^^^^^^^^^^^^^^^^^^^^^^^\n",
      "  File \"/Users/poorna/Desktop/llm_projects/projects/.venv/lib/python3.13/site-packages/gradio/chat_interface.py\", line 925, in _submit_fn\n",
      "    response = await anyio.to_thread.run_sync(\n",
      "               ^^^^^^^^^^^^^^^^^^^^^^^^^^^^^^^\n",
      "        self.fn, *inputs, limiter=self.limiter\n",
      "        ^^^^^^^^^^^^^^^^^^^^^^^^^^^^^^^^^^^^^^\n",
      "    )\n",
      "    ^\n",
      "  File \"/Users/poorna/Desktop/llm_projects/projects/.venv/lib/python3.13/site-packages/anyio/to_thread.py\", line 56, in run_sync\n",
      "    return await get_async_backend().run_sync_in_worker_thread(\n",
      "           ^^^^^^^^^^^^^^^^^^^^^^^^^^^^^^^^^^^^^^^^^^^^^^^^^^^^\n",
      "        func, args, abandon_on_cancel=abandon_on_cancel, limiter=limiter\n",
      "        ^^^^^^^^^^^^^^^^^^^^^^^^^^^^^^^^^^^^^^^^^^^^^^^^^^^^^^^^^^^^^^^^\n",
      "    )\n",
      "    ^\n",
      "  File \"/Users/poorna/Desktop/llm_projects/projects/.venv/lib/python3.13/site-packages/anyio/_backends/_asyncio.py\", line 2476, in run_sync_in_worker_thread\n",
      "    return await future\n",
      "           ^^^^^^^^^^^^\n",
      "  File \"/Users/poorna/Desktop/llm_projects/projects/.venv/lib/python3.13/site-packages/anyio/_backends/_asyncio.py\", line 967, in run\n",
      "    result = context.run(func, *args)\n",
      "  File \"/var/folders/gs/h8mf896s1xg8g6h294c83l2m0000gq/T/ipykernel_66684/2835523320.py\", line 40, in chat\n",
      "    result = graph.invoke({'messages':[{'role':'user','content':user_input}]},config = config)\n",
      "  File \"/Users/poorna/Desktop/llm_projects/projects/.venv/lib/python3.13/site-packages/langgraph/pregel/main.py\", line 3026, in invoke\n",
      "    for chunk in self.stream(\n",
      "                 ~~~~~~~~~~~^\n",
      "        input,\n",
      "        ^^^^^^\n",
      "    ...<10 lines>...\n",
      "        **kwargs,\n",
      "        ^^^^^^^^^\n",
      "    ):\n",
      "    ^\n",
      "  File \"/Users/poorna/Desktop/llm_projects/projects/.venv/lib/python3.13/site-packages/langgraph/pregel/main.py\", line 2647, in stream\n",
      "    for _ in runner.tick(\n",
      "             ~~~~~~~~~~~^\n",
      "        [t for t in loop.tasks.values() if not t.writes],\n",
      "        ^^^^^^^^^^^^^^^^^^^^^^^^^^^^^^^^^^^^^^^^^^^^^^^^^\n",
      "    ...<2 lines>...\n",
      "        schedule_task=loop.accept_push,\n",
      "        ^^^^^^^^^^^^^^^^^^^^^^^^^^^^^^^\n",
      "    ):\n",
      "    ^\n",
      "  File \"/Users/poorna/Desktop/llm_projects/projects/.venv/lib/python3.13/site-packages/langgraph/pregel/_runner.py\", line 162, in tick\n",
      "    run_with_retry(\n",
      "    ~~~~~~~~~~~~~~^\n",
      "        t,\n",
      "        ^^\n",
      "    ...<10 lines>...\n",
      "        },\n",
      "        ^^\n",
      "    )\n",
      "    ^\n",
      "  File \"/Users/poorna/Desktop/llm_projects/projects/.venv/lib/python3.13/site-packages/langgraph/pregel/_retry.py\", line 42, in run_with_retry\n",
      "    return task.proc.invoke(task.input, config)\n",
      "           ~~~~~~~~~~~~~~~~^^^^^^^^^^^^^^^^^^^^\n",
      "  File \"/Users/poorna/Desktop/llm_projects/projects/.venv/lib/python3.13/site-packages/langgraph/_internal/_runnable.py\", line 657, in invoke\n",
      "    input = context.run(step.invoke, input, config, **kwargs)\n",
      "  File \"/Users/poorna/Desktop/llm_projects/projects/.venv/lib/python3.13/site-packages/langgraph/_internal/_runnable.py\", line 401, in invoke\n",
      "    ret = self.func(*args, **kwargs)\n",
      "  File \"/var/folders/gs/h8mf896s1xg8g6h294c83l2m0000gq/T/ipykernel_66684/2835523320.py\", line 10, in chatbot\n",
      "    return {'messages':[llm_with_tools.invoke(state['messages'])]}\n",
      "                        ~~~~~~~~~~~~~~~~~~~~~^^^^^^^^^^^^^^^^^^^\n",
      "  File \"/Users/poorna/Desktop/llm_projects/projects/.venv/lib/python3.13/site-packages/langchain_core/runnables/base.py\", line 5495, in invoke\n",
      "    return self.bound.invoke(\n",
      "           ~~~~~~~~~~~~~~~~~^\n",
      "        input,\n",
      "        ^^^^^^\n",
      "        self._merge_configs(config),\n",
      "        ^^^^^^^^^^^^^^^^^^^^^^^^^^^^\n",
      "        **{**self.kwargs, **kwargs},\n",
      "        ^^^^^^^^^^^^^^^^^^^^^^^^^^^^\n",
      "    )\n",
      "    ^\n",
      "  File \"/Users/poorna/Desktop/llm_projects/projects/.venv/lib/python3.13/site-packages/langchain_core/language_models/chat_models.py\", line 393, in invoke\n",
      "    self.generate_prompt(\n",
      "    ~~~~~~~~~~~~~~~~~~~~^\n",
      "        [self._convert_input(input)],\n",
      "        ^^^^^^^^^^^^^^^^^^^^^^^^^^^^^\n",
      "    ...<6 lines>...\n",
      "        **kwargs,\n",
      "        ^^^^^^^^^\n",
      "    ).generations[0][0],\n",
      "    ^\n",
      "  File \"/Users/poorna/Desktop/llm_projects/projects/.venv/lib/python3.13/site-packages/langchain_core/language_models/chat_models.py\", line 1019, in generate_prompt\n",
      "    return self.generate(prompt_messages, stop=stop, callbacks=callbacks, **kwargs)\n",
      "           ~~~~~~~~~~~~~^^^^^^^^^^^^^^^^^^^^^^^^^^^^^^^^^^^^^^^^^^^^^^^^^^^^^^^^^^^\n",
      "  File \"/Users/poorna/Desktop/llm_projects/projects/.venv/lib/python3.13/site-packages/langchain_core/language_models/chat_models.py\", line 837, in generate\n",
      "    self._generate_with_cache(\n",
      "    ~~~~~~~~~~~~~~~~~~~~~~~~~^\n",
      "        m,\n",
      "        ^^\n",
      "    ...<2 lines>...\n",
      "        **kwargs,\n",
      "        ^^^^^^^^^\n",
      "    )\n",
      "    ^\n",
      "  File \"/Users/poorna/Desktop/llm_projects/projects/.venv/lib/python3.13/site-packages/langchain_core/language_models/chat_models.py\", line 1085, in _generate_with_cache\n",
      "    result = self._generate(\n",
      "        messages, stop=stop, run_manager=run_manager, **kwargs\n",
      "    )\n",
      "  File \"/Users/poorna/Desktop/llm_projects/projects/.venv/lib/python3.13/site-packages/langchain_openai/chat_models/base.py\", line 1183, in _generate\n",
      "    raise e\n",
      "  File \"/Users/poorna/Desktop/llm_projects/projects/.venv/lib/python3.13/site-packages/langchain_openai/chat_models/base.py\", line 1178, in _generate\n",
      "    raw_response = self.client.with_raw_response.create(**payload)\n",
      "  File \"/Users/poorna/Desktop/llm_projects/projects/.venv/lib/python3.13/site-packages/openai/_legacy_response.py\", line 364, in wrapped\n",
      "    return cast(LegacyAPIResponse[R], func(*args, **kwargs))\n",
      "                                      ~~~~^^^^^^^^^^^^^^^^^\n",
      "  File \"/Users/poorna/Desktop/llm_projects/projects/.venv/lib/python3.13/site-packages/openai/_utils/_utils.py\", line 287, in wrapper\n",
      "    return func(*args, **kwargs)\n",
      "  File \"/Users/poorna/Desktop/llm_projects/projects/.venv/lib/python3.13/site-packages/openai/resources/chat/completions/completions.py\", line 1147, in create\n",
      "    return self._post(\n",
      "           ~~~~~~~~~~^\n",
      "        \"/chat/completions\",\n",
      "        ^^^^^^^^^^^^^^^^^^^^\n",
      "    ...<46 lines>...\n",
      "        stream_cls=Stream[ChatCompletionChunk],\n",
      "        ^^^^^^^^^^^^^^^^^^^^^^^^^^^^^^^^^^^^^^^\n",
      "    )\n",
      "    ^\n",
      "  File \"/Users/poorna/Desktop/llm_projects/projects/.venv/lib/python3.13/site-packages/openai/_base_client.py\", line 1259, in post\n",
      "    return cast(ResponseT, self.request(cast_to, opts, stream=stream, stream_cls=stream_cls))\n",
      "                           ~~~~~~~~~~~~^^^^^^^^^^^^^^^^^^^^^^^^^^^^^^^^^^^^^^^^^^^^^^^^^^^^^\n",
      "  File \"/Users/poorna/Desktop/llm_projects/projects/.venv/lib/python3.13/site-packages/openai/_base_client.py\", line 1047, in request\n",
      "    raise self._make_status_error_from_response(err.response) from None\n",
      "openai.BadRequestError: Error code: 400 - {'error': {'message': \"Invalid 'tools[1].function.name': string does not match pattern. Expected a string that matches the pattern '^[a-zA-Z0-9_-]+$'.\", 'type': 'invalid_request_error', 'param': 'tools[1].function.name', 'code': 'invalid_value'}}\n",
      "During task with name 'chatbot' and id 'ea6ed649-62cf-8527-f221-bbfda51d0aeb'\n"
     ]
    }
   ],
   "source": [
    "gr.ChatInterface(chat, type = 'messages').launch()"
   ]
  },
  {
   "cell_type": "code",
   "execution_count": null,
   "id": "faddaeaf",
   "metadata": {},
   "outputs": [],
   "source": []
  }
 ],
 "metadata": {
  "kernelspec": {
   "display_name": ".venv",
   "language": "python",
   "name": "python3"
  },
  "language_info": {
   "codemirror_mode": {
    "name": "ipython",
    "version": 3
   },
   "file_extension": ".py",
   "mimetype": "text/x-python",
   "name": "python",
   "nbconvert_exporter": "python",
   "pygments_lexer": "ipython3",
   "version": "3.13.1"
  }
 },
 "nbformat": 4,
 "nbformat_minor": 5
}
