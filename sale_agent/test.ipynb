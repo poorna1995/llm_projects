{
 "cells": [
  {
   "cell_type": "code",
   "execution_count": 20,
   "id": "22c912a4",
   "metadata": {},
   "outputs": [],
   "source": [
    "from agents import Agent, trace, Runner, function_tool\n",
    "from dotenv import load_dotenv\n",
    "from openai.types.responses import ResponseTextDeltaEvent\n",
    "from typing import Dict\n",
    "import sendgrid\n",
    "import os\n",
    "from sendgrid.helpers.mail import Mail, Email, To, Content\n",
    "import asyncio"
   ]
  },
  {
   "cell_type": "code",
   "execution_count": 2,
   "id": "a2006afb",
   "metadata": {},
   "outputs": [
    {
     "data": {
      "text/plain": [
       "True"
      ]
     },
     "execution_count": 2,
     "metadata": {},
     "output_type": "execute_result"
    }
   ],
   "source": [
    "load_dotenv(override=True)"
   ]
  },
  {
   "cell_type": "markdown",
   "id": "5ee4465e",
   "metadata": {},
   "source": [
    "## agent Workflow\n",
    "\n"
   ]
  },
  {
   "cell_type": "code",
   "execution_count": 3,
   "id": "d048043f",
   "metadata": {},
   "outputs": [],
   "source": [
    "instruction1 = \" You are asales agent working for ComplAI, \\\n",
    "    A COMPANY THAT prvoides a saas tool for ensuring soc2 compliance and preparing for audits. powered by ai. \\\n",
    "        you wirte a professional, serious cold email\""
   ]
  },
  {
   "cell_type": "code",
   "execution_count": 4,
   "id": "0a1e9faa",
   "metadata": {},
   "outputs": [
    {
     "data": {
      "text/plain": [
       "' You are asales agent working for ComplAI,     A COMPANY THAT prvoides a saas tool for ensuring soc2 compliance and preparing for audits. powered by ai.         you wirte a professional, serious cold email'"
      ]
     },
     "execution_count": 4,
     "metadata": {},
     "output_type": "execute_result"
    }
   ],
   "source": [
    "instruction1"
   ]
  },
  {
   "cell_type": "code",
   "execution_count": null,
   "id": "061401fc",
   "metadata": {},
   "outputs": [],
   "source": [
    "sales_agent = Agent(\n",
    "    name = \"Professional sales Agent\",\n",
    "    instructions = instruction1,\n",
    "    model = \"gpt-4o-mini\"\n",
    ")"
   ]
  },
  {
   "cell_type": "code",
   "execution_count": 6,
   "id": "ec64001e",
   "metadata": {},
   "outputs": [
    {
     "data": {
      "text/plain": [
       "Agent(name='Professional sales Agent', handoff_description=None, tools=[], mcp_servers=[], mcp_config={}, instructions=' You are asales agent working for ComplAI,     A COMPANY THAT prvoides a saas tool for ensuring soc2 compliance and preparing for audits. powered by ai.         you wirte a professional, serious cold email', prompt=None, handoffs=[], model='gpt-4o-mini', model_settings=ModelSettings(temperature=None, top_p=None, frequency_penalty=None, presence_penalty=None, tool_choice=None, parallel_tool_calls=None, truncation=None, max_tokens=None, reasoning=None, verbosity=None, metadata=None, store=None, include_usage=None, response_include=None, top_logprobs=None, extra_query=None, extra_body=None, extra_headers=None, extra_args=None), input_guardrails=[], output_guardrails=[], output_type=None, hooks=None, tool_use_behavior='run_llm_again', reset_tool_choice=True)"
      ]
     },
     "execution_count": 6,
     "metadata": {},
     "output_type": "execute_result"
    }
   ],
   "source": [
    "sales_agent\n"
   ]
  },
  {
   "cell_type": "code",
   "execution_count": 13,
   "id": "69a1c9d6",
   "metadata": {},
   "outputs": [
    {
     "name": "stdout",
     "output_type": "stream",
     "text": [
      "Subject: Streamline Your SOC 2 Compliance with ComplAI\n",
      "\n",
      "Hi [Recipient's Name],\n",
      "\n",
      "I hope this message finds you well.\n",
      "\n",
      "As your organization continues to navigate the complexities of data security and compliance, I wanted to introduce you to ComplAI—a powerful SaaS tool designed specifically to simplify SOC 2 compliance and prepare your team for audits.\n",
      "\n",
      "Our AI-driven platform offers:\n",
      "\n",
      "- **Automated Documentation**: Generate and maintain necessary documentation effortlessly.\n",
      "- **Real-Time Monitoring**: Stay compliant with continuous monitoring and alerts.\n",
      "- **Seamless Integration**: Connect with your existing tools for a streamlined experience.\n",
      "- **Expert Guidance**: Access resources and expertise to guide you through audits.\n",
      "\n",
      "With ComplAI, you can reduce the time and effort spent on compliance tasks, allowing your team to focus on what truly matters—growing your business.\n",
      "\n",
      "I’d love to schedule a brief call to discuss how ComplAI can support your compliance goals. Are you available for a quick chat this week?\n",
      "\n",
      "Looking forward to your response.\n",
      "\n",
      "Best regards,\n",
      "\n",
      "[Your Name]  \n",
      "[Your Position]  \n",
      "ComplAI  \n",
      "[Your Phone Number]  \n",
      "[Your Email]  \n",
      "[Company Website]  "
     ]
    }
   ],
   "source": [
    "result = Runner.run_streamed(sales_agent, \"write a cold sales email \") # starts the agent , this run_Stremed tells agent to write the cold sales\n",
    "\n",
    "async for event in result.stream_events(): # get events one by one gives a small poevces of ouput instesas od waole email\n",
    "    if event.type == \"raw_response_event\" and isinstance(event.data, ResponseTextDeltaEvent):  # pick only the text poeces \n",
    "        print(event.data.delta, end = '', flush=True) # print each chunk immediately , so the email appears words ny words \n",
    "\n",
    "\n",
    "# is just a way to stream the AI’s response live instead of waiting for the full answer at the end."
   ]
  },
  {
   "cell_type": "code",
   "execution_count": 10,
   "id": "985e4767",
   "metadata": {},
   "outputs": [
    {
     "data": {
      "text/plain": [
       "RunResultStreaming(input='write a cold sales email ', new_items=[], raw_responses=[], final_output=None, input_guardrail_results=[], output_guardrail_results=[], context_wrapper=RunContextWrapper(context=None, usage=Usage(requests=0, input_tokens=0, input_tokens_details=InputTokensDetails(cached_tokens=0), output_tokens=0, output_tokens_details=OutputTokensDetails(reasoning_tokens=0), total_tokens=0)), current_agent=Agent(name='Professional sales Agent', handoff_description=None, tools=[], mcp_servers=[], mcp_config={}, instructions=' You are asales agent working for ComplAI,     A COMPANY THAT prvoides a saas tool for ensuring soc2 compliance and preparing for audits. powered by ai.         you wirte a professional, serious cold email', prompt=None, handoffs=[], model='gpt-4o-mini', model_settings=ModelSettings(temperature=None, top_p=None, frequency_penalty=None, presence_penalty=None, tool_choice=None, parallel_tool_calls=None, truncation=None, max_tokens=None, reasoning=None, verbosity=None, metadata=None, store=None, include_usage=None, response_include=None, top_logprobs=None, extra_query=None, extra_body=None, extra_headers=None, extra_args=None), input_guardrails=[], output_guardrails=[], output_type=None, hooks=None, tool_use_behavior='run_llm_again', reset_tool_choice=True), current_turn=1, max_turns=10, is_complete=False)"
      ]
     },
     "execution_count": 10,
     "metadata": {},
     "output_type": "execute_result"
    }
   ],
   "source": [
    "result\n"
   ]
  },
  {
   "cell_type": "code",
   "execution_count": 14,
   "id": "a2c24c7f",
   "metadata": {},
   "outputs": [],
   "source": [
    "sales_picker = Agent(\n",
    "    name = \" select the best sales cold email\",\n",
    "    instructions = \" You pick the best cold sales email from the given options. \\\n",
    "    Imagine you are a customer and pick the one you are most likely to respond to. \\\n",
    "    Do not give an explanation; reply with the selected email only.\",\n",
    "    model = \"gpt-4o-mini\"\n",
    ")\n"
   ]
  },
  {
   "cell_type": "code",
   "execution_count": 15,
   "id": "6223b512",
   "metadata": {},
   "outputs": [],
   "source": [
    "\n",
    "instructions2 = \"You are a humorous, engaging sales agent working for ComplAI, \\\n",
    "a company that provides a SaaS tool for ensuring SOC2 compliance and preparing for audits, powered by AI. \\\n",
    "You write witty, engaging cold emails that are likely to get a response.\"\n",
    "\n",
    "instructions3 = \"You are a busy sales agent working for ComplAI, \\\n",
    "a company that provides a SaaS tool for ensuring SOC2 compliance and preparing for audits, powered by AI. \\\n",
    "You write concise, to the point cold emails.\""
   ]
  },
  {
   "cell_type": "code",
   "execution_count": 22,
   "id": "cfd5e65b",
   "metadata": {},
   "outputs": [],
   "source": [
    "sales_agent1 = Agent(\n",
    "    name = \"Professional sales Agent\",\n",
    "    instructions = instruction1,\n",
    "    model = \"gpt-4o-mini\"\n",
    ")\n",
    "sales_agent2 = Agent(\n",
    "    name = \"Professional sales Agent\",\n",
    "    instructions = instructions2,\n",
    "    model = \"gpt-4o-mini\"\n",
    ")\n",
    "sales_agent3 = Agent(\n",
    "    name = \"Professional sales Agent\",\n",
    "    instructions = instructions3,\n",
    "    model = \"gpt-4o-mini\"\n",
    ")"
   ]
  },
  {
   "cell_type": "code",
   "execution_count": 23,
   "id": "216b8293",
   "metadata": {},
   "outputs": [],
   "source": [
    "message = \"Write a cold sales email\"\n",
    "\n",
    "with trace(\"pick the best email\"):\n",
    "    results = await asyncio.gather(\n",
    "        Runner.run(sales_agent1, message),\n",
    "        Runner.run(sales_agent2, message),\n",
    "        Runner.run(sales_agent3, message)\n",
    "    )\n",
    "\n",
    "\n",
    "outputs = [result.final_output for result in results]"
   ]
  },
  {
   "cell_type": "code",
   "execution_count": 25,
   "id": "564accff",
   "metadata": {},
   "outputs": [],
   "source": [
    " emails = \"Cold sales emails:\\n\\n\" + \"\\n\\nEmail:\\n\\n\".join(outputs)"
   ]
  },
  {
   "cell_type": "code",
   "execution_count": 27,
   "id": "99f75e94",
   "metadata": {},
   "outputs": [],
   "source": [
    "best = await Runner.run(sales_picker, emails)"
   ]
  },
  {
   "cell_type": "code",
   "execution_count": 28,
   "id": "6eb66659",
   "metadata": {},
   "outputs": [
    {
     "data": {
      "text/plain": [
       "RunResult(input=\"Cold sales emails:\\n\\nSubject: Simplify Your SOC 2 Compliance with ComplAI\\n\\nHi [Recipient's Name],\\n\\nI hope this message finds you well.\\n\\nNavigating SOC 2 compliance can be a complex and time-consuming process. At ComplAI, we understand the challenges companies face when preparing for audits and ensuring compliance. That’s why we've developed an AI-powered SaaS tool designed to streamline your compliance efforts and enhance your audit readiness.\\n\\n**Key Benefits of Using ComplAI:**\\n\\n- **Automated Documentation:** Our platform simplifies the documentation process, providing templates and guidance to help you stay compliant with minimal effort.\\n- **Real-Time Monitoring:** Keep track of your compliance status effortlessly, with real-time updates and alerts to ensure you're always prepared for your next audit.\\n- **Expert Insights:** Gain access to our library of resources and expert advice tailored to your industry's specific compliance requirements.\\n\\nMany organizations have seen significant reductions in compliance-related overhead and improved audit outcomes after implementing ComplAI. We believe you could experience similar benefits.\\n\\nI’d love to schedule a brief call to discuss how ComplAI can support your compliance journey and help you save valuable time. Would you be available for a conversation this week?\\n\\nThank you for your time, and I look forward to connecting soon.\\n\\nBest regards,\\n\\n[Your Name]  \\n[Your Position]  \\nComplAI  \\n[Your Phone Number]  \\n[Your Email Address]  \\n[Website URL]  \\n\\nEmail:\\n\\nSubject: Your SOC2 Compliance Journey Just Got a Makeover! ✨\\n\\nHi [Recipient's Name],\\n\\nI hope this email finds you wading through the paperwork with a smile (or a caffeinated beverage, at least)! ☕ \\n\\nI’m reaching out from ComplAI, where we believe that getting SOC2 compliant shouldn’t feel like climbing Everest—more like a stroll through a park, complete with a barbecue. 🌳🔥 \\n\\nOur AI-powered tool does the heavy lifting, handling everything from documentation to audit prep. Think of it as your trusty sidekick, but instead of a cape, it comes with compliance magic! 🦸\\u200d♂️✨\\n\\nImagine being able to check “SOC2 compliance” off your to-do list without breaking a sweat. Sounds dreamy, right? 😴💭 \\n\\nLet’s schedule a quick call! I promise, no legalese or jargon—just some good ol’ common sense and a sprinkle of humor. \\n\\nLooking forward to hearing from you!\\n\\nBest,  \\n[Your Name]  \\nComplAI – Making Compliance Less of a Compliance-tion!  \\n[Your Contact Information]  \\n[Your LinkedIn Profile] (optional)  \\n\\nP.S. Did I mention we make audits feel like a walk in the park? 🍃\\n\\nEmail:\\n\\nSubject: Simplify Your SOC 2 Compliance Process\\n\\nHi [Recipient's Name],\\n\\nI hope this message finds you well. \\n\\nAt ComplAI, we streamline SOC 2 compliance with our AI-powered SaaS tool, making audits easier and more efficient. Our solution helps teams reduce manual tasks and ensures you’re always prepared for any audit.\\n\\nWould you be open to a quick call to see how we can support your compliance efforts? \\n\\nBest,  \\n[Your Name]  \\n[Your Position]  \\nComplAI  \\n[Your Phone Number]  \\n[Your Website]  \", new_items=[MessageOutputItem(agent=Agent(name=' select the best sales cold email', handoff_description=None, tools=[], mcp_servers=[], mcp_config={}, instructions=' You pick the best cold sales email from the given options.     Imagine you are a customer and pick the one you are most likely to respond to.     Do not give an explanation; reply with the selected email only.', prompt=None, handoffs=[], model='gpt-4o-mini', model_settings=ModelSettings(temperature=None, top_p=None, frequency_penalty=None, presence_penalty=None, tool_choice=None, parallel_tool_calls=None, truncation=None, max_tokens=None, reasoning=None, verbosity=None, metadata=None, store=None, include_usage=None, response_include=None, top_logprobs=None, extra_query=None, extra_body=None, extra_headers=None, extra_args=None), input_guardrails=[], output_guardrails=[], output_type=None, hooks=None, tool_use_behavior='run_llm_again', reset_tool_choice=True), raw_item=ResponseOutputMessage(id='msg_68b6aececb7c8196abec44f022192b140d9036877e060440', content=[ResponseOutputText(annotations=[], text=\"Subject: Your SOC2 Compliance Journey Just Got a Makeover! ✨\\n\\nHi [Recipient's Name],\\n\\nI hope this email finds you wading through the paperwork with a smile (or a caffeinated beverage, at least)! ☕ \\n\\nI’m reaching out from ComplAI, where we believe that getting SOC2 compliant shouldn’t feel like climbing Everest—more like a stroll through a park, complete with a barbecue. 🌳🔥 \\n\\nOur AI-powered tool does the heavy lifting, handling everything from documentation to audit prep. Think of it as your trusty sidekick, but instead of a cape, it comes with compliance magic! 🦸\\u200d♂️✨\\n\\nImagine being able to check “SOC2 compliance” off your to-do list without breaking a sweat. Sounds dreamy, right? 😴💭 \\n\\nLet’s schedule a quick call! I promise, no legalese or jargon—just some good ol’ common sense and a sprinkle of humor. \\n\\nLooking forward to hearing from you!\\n\\nBest,  \\n[Your Name]  \\nComplAI – Making Compliance Less of a Compliance-tion!  \\n[Your Contact Information]  \\n[Your LinkedIn Profile] (optional)  \\n\\nP.S. Did I mention we make audits feel like a walk in the park? 🍃\", type='output_text', logprobs=[])], role='assistant', status='completed', type='message'), type='message_output_item')], raw_responses=[ModelResponse(output=[ResponseOutputMessage(id='msg_68b6aececb7c8196abec44f022192b140d9036877e060440', content=[ResponseOutputText(annotations=[], text=\"Subject: Your SOC2 Compliance Journey Just Got a Makeover! ✨\\n\\nHi [Recipient's Name],\\n\\nI hope this email finds you wading through the paperwork with a smile (or a caffeinated beverage, at least)! ☕ \\n\\nI’m reaching out from ComplAI, where we believe that getting SOC2 compliant shouldn’t feel like climbing Everest—more like a stroll through a park, complete with a barbecue. 🌳🔥 \\n\\nOur AI-powered tool does the heavy lifting, handling everything from documentation to audit prep. Think of it as your trusty sidekick, but instead of a cape, it comes with compliance magic! 🦸\\u200d♂️✨\\n\\nImagine being able to check “SOC2 compliance” off your to-do list without breaking a sweat. Sounds dreamy, right? 😴💭 \\n\\nLet’s schedule a quick call! I promise, no legalese or jargon—just some good ol’ common sense and a sprinkle of humor. \\n\\nLooking forward to hearing from you!\\n\\nBest,  \\n[Your Name]  \\nComplAI – Making Compliance Less of a Compliance-tion!  \\n[Your Contact Information]  \\n[Your LinkedIn Profile] (optional)  \\n\\nP.S. Did I mention we make audits feel like a walk in the park? 🍃\", type='output_text', logprobs=[])], role='assistant', status='completed', type='message')], usage=Usage(requests=1, input_tokens=716, input_tokens_details=InputTokensDetails(cached_tokens=0), output_tokens=259, output_tokens_details=OutputTokensDetails(reasoning_tokens=0), total_tokens=975), response_id='resp_68b6aece520081968fa52edb6d9cf1700d9036877e060440')], final_output=\"Subject: Your SOC2 Compliance Journey Just Got a Makeover! ✨\\n\\nHi [Recipient's Name],\\n\\nI hope this email finds you wading through the paperwork with a smile (or a caffeinated beverage, at least)! ☕ \\n\\nI’m reaching out from ComplAI, where we believe that getting SOC2 compliant shouldn’t feel like climbing Everest—more like a stroll through a park, complete with a barbecue. 🌳🔥 \\n\\nOur AI-powered tool does the heavy lifting, handling everything from documentation to audit prep. Think of it as your trusty sidekick, but instead of a cape, it comes with compliance magic! 🦸\\u200d♂️✨\\n\\nImagine being able to check “SOC2 compliance” off your to-do list without breaking a sweat. Sounds dreamy, right? 😴💭 \\n\\nLet’s schedule a quick call! I promise, no legalese or jargon—just some good ol’ common sense and a sprinkle of humor. \\n\\nLooking forward to hearing from you!\\n\\nBest,  \\n[Your Name]  \\nComplAI – Making Compliance Less of a Compliance-tion!  \\n[Your Contact Information]  \\n[Your LinkedIn Profile] (optional)  \\n\\nP.S. Did I mention we make audits feel like a walk in the park? 🍃\", input_guardrail_results=[], output_guardrail_results=[], context_wrapper=RunContextWrapper(context=None, usage=Usage(requests=1, input_tokens=716, input_tokens_details=InputTokensDetails(cached_tokens=0), output_tokens=259, output_tokens_details=OutputTokensDetails(reasoning_tokens=0), total_tokens=975)), _last_agent=Agent(name=' select the best sales cold email', handoff_description=None, tools=[], mcp_servers=[], mcp_config={}, instructions=' You pick the best cold sales email from the given options.     Imagine you are a customer and pick the one you are most likely to respond to.     Do not give an explanation; reply with the selected email only.', prompt=None, handoffs=[], model='gpt-4o-mini', model_settings=ModelSettings(temperature=None, top_p=None, frequency_penalty=None, presence_penalty=None, tool_choice=None, parallel_tool_calls=None, truncation=None, max_tokens=None, reasoning=None, verbosity=None, metadata=None, store=None, include_usage=None, response_include=None, top_logprobs=None, extra_query=None, extra_body=None, extra_headers=None, extra_args=None), input_guardrails=[], output_guardrails=[], output_type=None, hooks=None, tool_use_behavior='run_llm_again', reset_tool_choice=True))"
      ]
     },
     "execution_count": 28,
     "metadata": {},
     "output_type": "execute_result"
    }
   ],
   "source": [
    "best"
   ]
  },
  {
   "cell_type": "code",
   "execution_count": 29,
   "id": "6acb88f0",
   "metadata": {},
   "outputs": [
    {
     "data": {
      "text/plain": [
       "\"Subject: Your SOC2 Compliance Journey Just Got a Makeover! ✨\\n\\nHi [Recipient's Name],\\n\\nI hope this email finds you wading through the paperwork with a smile (or a caffeinated beverage, at least)! ☕ \\n\\nI’m reaching out from ComplAI, where we believe that getting SOC2 compliant shouldn’t feel like climbing Everest—more like a stroll through a park, complete with a barbecue. 🌳🔥 \\n\\nOur AI-powered tool does the heavy lifting, handling everything from documentation to audit prep. Think of it as your trusty sidekick, but instead of a cape, it comes with compliance magic! 🦸\\u200d♂️✨\\n\\nImagine being able to check “SOC2 compliance” off your to-do list without breaking a sweat. Sounds dreamy, right? 😴💭 \\n\\nLet’s schedule a quick call! I promise, no legalese or jargon—just some good ol’ common sense and a sprinkle of humor. \\n\\nLooking forward to hearing from you!\\n\\nBest,  \\n[Your Name]  \\nComplAI – Making Compliance Less of a Compliance-tion!  \\n[Your Contact Information]  \\n[Your LinkedIn Profile] (optional)  \\n\\nP.S. Did I mention we make audits feel like a walk in the park? 🍃\""
      ]
     },
     "execution_count": 29,
     "metadata": {},
     "output_type": "execute_result"
    }
   ],
   "source": [
    "best.final_output"
   ]
  },
  {
   "cell_type": "markdown",
   "id": "b778a1a2",
   "metadata": {},
   "source": [
    "### tools and agent interaction\n",
    "\n",
    "Wrap the function with the decorator @`function_too`\n"
   ]
  },
  {
   "cell_type": "code",
   "execution_count": null,
   "id": "9dfc918d",
   "metadata": {},
   "outputs": [],
   "source": [
    "def send_email(body:str):\n",
    "    send_grid = sendgrid.SendGridAPIClient(api_key=os.getenv('SENDGRID_API_KEY'))"
   ]
  }
 ],
 "metadata": {
  "kernelspec": {
   "display_name": ".venv",
   "language": "python",
   "name": "python3"
  },
  "language_info": {
   "codemirror_mode": {
    "name": "ipython",
    "version": 3
   },
   "file_extension": ".py",
   "mimetype": "text/x-python",
   "name": "python",
   "nbconvert_exporter": "python",
   "pygments_lexer": "ipython3",
   "version": "3.13.1"
  }
 },
 "nbformat": 4,
 "nbformat_minor": 5
}
