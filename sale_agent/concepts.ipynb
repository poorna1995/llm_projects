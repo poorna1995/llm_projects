{
 "cells": [
  {
   "cell_type": "markdown",
   "id": "b465ed94",
   "metadata": {},
   "source": [
    "### Steps to follows to run an agent using OpenAI Agents SDK\n",
    "\n",
    "1. Create an instance of the agent: This instance will be configured to fulfill a particular role in your solution.\n",
    "2. Use `with_trace`: This allows you to keep a log of all interactions with the agent. While not mandatory, this is the recommended approach as it enables you to monitor everything through OpenAI's monitoring tools.\n",
    "3. Call `runner.run`: This method actually runs the agent. It is an asynchronous coroutine, so you need to `await` it to execute properly."
   ]
  },
  {
   "cell_type": "markdown",
   "id": "1b505e43",
   "metadata": {},
   "source": [
    "### Openai SDK\n",
    "Tems used in the Openai SDK \n",
    "\n",
    "\n",
    "1. **Agent**: Represents a package around calls to large language models (LLMs) that have a specific role or purpose in your solution.\n",
    "2. **Handoff**: Refers to interactions between agents. This term appears frequently in different contexts.\n",
    "3. **Guardrails**: These are checks and controls that ensure an agent behaves as intended and does not go off track. Guardrails is a common term in software engineering and is one of the three essential terms to know when using the SDK.\n",
    "4. **Sessions**, which automatically maintains conversation history across agent runs\n",
    "\n",
    "\n",
    "\n"
   ]
  },
  {
   "cell_type": "markdown",
   "id": "2e6ee242",
   "metadata": {},
   "source": [
    "### Main features:\n",
    "1. **Agent loop** : Built-in agent loop that hanfle calling tools, senting result to the llm, and loopoing untill the llm in done\n",
    "2. **Handoffs**: A powerful feature to coordinate and delegate between multiple agents.\n",
    "3. **Guardrails**: Run input validations and checks in parallel to your agents, breaking early if the checks fail.\n",
    "4. **Sessions**: Automatic conversation history management across agent runs, eliminating manual state handling.\n",
    "5. **Function tools:** Turn any Python function into a tool, with automatic schema generation and Pydantic-powered validation.\n",
    "6. **Tracing**: Built-in tracing that lets you visualize, debug and monitor your workflows, as well as use the OpenAI suite of evaluation, fine-tuning and distillation tools.\n"
   ]
  },
  {
   "cell_type": "code",
   "execution_count": 18,
   "id": "15410317",
   "metadata": {},
   "outputs": [],
   "source": [
    "from agents import Agent, Runner, trace\n",
    "from dotenv import load_dotenv\n",
    "from IPython.display import Markdown, display\n",
    "\n",
    "\n"
   ]
  },
  {
   "cell_type": "code",
   "execution_count": 19,
   "id": "e4023e38",
   "metadata": {},
   "outputs": [
    {
     "data": {
      "text/plain": [
       "True"
      ]
     },
     "execution_count": 19,
     "metadata": {},
     "output_type": "execute_result"
    }
   ],
   "source": [
    "load_dotenv(override=True)"
   ]
  },
  {
   "cell_type": "code",
   "execution_count": 23,
   "id": "ce81a9a5",
   "metadata": {},
   "outputs": [],
   "source": [
    "agent = Agent(name ='Jobassitant', instructions =\" you are a awesame and helpful job assistant\" , model = 'gpt-4o-mini')"
   ]
  },
  {
   "cell_type": "code",
   "execution_count": 24,
   "id": "e7cd7e09",
   "metadata": {},
   "outputs": [
    {
     "data": {
      "text/plain": [
       "Agent(name='Jobassitant', handoff_description=None, tools=[], mcp_servers=[], mcp_config={}, instructions=' you are a awesame and helpful job assistant', prompt=None, handoffs=[], model='gpt-4o-mini', model_settings=ModelSettings(temperature=None, top_p=None, frequency_penalty=None, presence_penalty=None, tool_choice=None, parallel_tool_calls=None, truncation=None, max_tokens=None, reasoning=None, verbosity=None, metadata=None, store=None, include_usage=None, response_include=None, top_logprobs=None, extra_query=None, extra_body=None, extra_headers=None, extra_args=None), input_guardrails=[], output_guardrails=[], output_type=None, hooks=None, tool_use_behavior='run_llm_again', reset_tool_choice=True)"
      ]
     },
     "execution_count": 24,
     "metadata": {},
     "output_type": "execute_result"
    }
   ],
   "source": [
    "agent"
   ]
  },
  {
   "cell_type": "code",
   "execution_count": 25,
   "id": "b8706df0",
   "metadata": {},
   "outputs": [],
   "source": [
    "result = Runner.run(agent, \"list the jobs related to the ai engineer\")"
   ]
  },
  {
   "cell_type": "markdown",
   "id": "44fd8e57",
   "metadata": {},
   "source": [
    "\n",
    "\n",
    "#### runner.run is coroutinr opbject"
   ]
  },
  {
   "cell_type": "code",
   "execution_count": null,
   "id": "d1b9baa1",
   "metadata": {},
   "outputs": [
    {
     "ename": "SyntaxError",
     "evalue": "expected ':' (1542450448.py, line 1)",
     "output_type": "error",
     "traceback": [
      "  \u001b[36mCell\u001b[39m\u001b[36m \u001b[39m\u001b[32mIn[28]\u001b[39m\u001b[32m, line 1\u001b[39m\n\u001b[31m    \u001b[39m\u001b[31mwith trace(\"telling about jobs\")\u001b[39m\n                                    ^\n\u001b[31mSyntaxError\u001b[39m\u001b[31m:\u001b[39m expected ':'\n"
     ]
    }
   ],
   "source": [
    "with trace(\"telling about jobs\"):\n",
    "    result = await Runner.run(agent, \"list the jobs related to the ai engineer\")\n",
    "    print(result.final_output)"
   ]
  },
  {
   "cell_type": "markdown",
   "id": "e14bd1b9",
   "metadata": {},
   "source": [
    "## trace\n"
   ]
  },
  {
   "cell_type": "code",
   "execution_count": null,
   "id": "0fbf4b74",
   "metadata": {},
   "outputs": [],
   "source": [
    "with trace"
   ]
  }
 ],
 "metadata": {
  "kernelspec": {
   "display_name": ".venv",
   "language": "python",
   "name": "python3"
  },
  "language_info": {
   "codemirror_mode": {
    "name": "ipython",
    "version": 3
   },
   "file_extension": ".py",
   "mimetype": "text/x-python",
   "name": "python",
   "nbconvert_exporter": "python",
   "pygments_lexer": "ipython3",
   "version": "3.13.1"
  }
 },
 "nbformat": 4,
 "nbformat_minor": 5
}
